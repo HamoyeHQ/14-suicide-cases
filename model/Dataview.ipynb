{
 "cells": [
  {
   "cell_type": "markdown",
   "metadata": {},
   "source": [
    "## SUICIDE ANALYSIS\n",
    "\n",
    "<img src=\"../images/picture.jpg\">"
   ]
  },
  {
   "cell_type": "markdown",
   "metadata": {},
   "source": [
    "## Brief Introduction\n",
    "\n",
    "### _Who is at risk?_\n",
    "\n",
    "While the link between suicide and mental disorders (in particular, depression and alcohol use disorders) is well established in high-income countries, many suicides happen impulsively in moments of crisis with a breakdown in the ability to deal with life stresses, such as financial problems, relationship break-up or chronic pain and illness.\n",
    "\n",
    "In addition, experiencing conflict, disaster, violence, abuse, or loss and a sense of isolation are strongly associated with suicidal behaviour. Suicide rates are also high amongst vulnerable groups who experience discrimination, such as refugees and migrants; indigenous peoples; lesbian, gay, bisexual, transgender, intersex (LGBTI) persons; and prisoners. By far the strongest risk factor for suicide is a previous suicide attempt.\n",
    "\n",
    "### _Data quality_\n",
    "\n",
    "Globally, the availability and quality of data on suicide and suicide attempts is poor. Only 80 Member States have good-quality vital registration data that can be used directly to estimate suicide rates. This problem of poor-quality mortality data is not unique to suicide, but given the sensitivity of suicide – and the illegality of suicidal behaviour in some countries – it is likely that under-reporting and misclassification are greater problems for suicide than for most other causes of death.\n",
    "\n",
    "Improved surveillance and monitoring of suicide and suicide attempts is required for effective suicide prevention strategies. Cross-national differences in the patterns of suicide, and changes in the rates, characteristics and methods of suicide, highlight the need for each country to improve the comprehensiveness, quality and timeliness of their suicide-related data. This includes vital registration of suicide, hospital-based registries of suicide attempts and nationally-representative surveys collecting information about self-reported suicide attempts."
   ]
  },
  {
   "cell_type": "markdown",
   "metadata": {},
   "source": [
    "This group is trying develop insights into the given data by using the datasets to answer some questions\n"
   ]
  },
  {
   "cell_type": "markdown",
   "metadata": {},
   "source": [
    "    1. A)What is the perecntage of male suicides in the total population per country every 5 years? (ratio of men that committed suicides in the total population of the country)?\n",
    "       B)What is the percentage of female suicides in the total population per country every 5 years?\n",
    "    >- Is there any correlation between the population and the suicide rates?\n",
    "    >- Which countries had the highest percentage increase for each gender over the years?\n",
    "    \n",
    "    2.Find the year with the highest suicide rate of each:\n",
    "        -         age group.\n",
    "        -         Gender\n",
    "      \n",
    "    3. What can you deduce as a factor responsible for 2 above? E.g. famine, war, low gdp etc.\n",
    "    \n",
    "    4. What is the percentage of the age group in the population the year in 2 above\n",
    "    \n",
    "    5. Do you think population is a factor that influences suicide?\n",
    "    \n",
    "    6. Show the percentage increase in suicide across the decades for :\n",
    "        -       each gender\n",
    "        -         Age group\n",
    "    7. Deduce reasons for answers in 6 above\n",
    "    8. Could the ratio of the gender population each year be factor to consider? (like do we have more male suicides as a result of more women or more men in the population)\n",
    "    9. Could the ratio of the age group also be a factor to consider?(are there more suicides amongst adult because there are more youths or because there are more adults in the population, is there any correlation)"
   ]
  },
  {
   "cell_type": "code",
   "execution_count": 1,
   "metadata": {},
   "outputs": [
    {
     "data": {
      "text/plain": [
       "['Open source questions.docx',\n",
       " 'readme.md',\n",
       " 'who_suicide_statistics.csv',\n",
       " '~$en source questions.docx']"
      ]
     },
     "execution_count": 1,
     "metadata": {},
     "output_type": "execute_result"
    }
   ],
   "source": [
    "import os\n",
    "os.listdir('../data/')"
   ]
  },
  {
   "cell_type": "code",
   "execution_count": 2,
   "metadata": {},
   "outputs": [],
   "source": [
    "import matplotlib.pyplot as plt\n",
    "import pandas as pd\n",
    "import numpy as np\n",
    "from matplotlib import style\n",
    "import seaborn as sns\n",
    "\n",
    "style.use('ggplot')\n",
    "sns.set()"
   ]
  },
  {
   "cell_type": "code",
   "execution_count": 3,
   "metadata": {},
   "outputs": [],
   "source": [
    "data = pd.read_csv('../data/who_suicide_statistics.csv')"
   ]
  },
  {
   "cell_type": "code",
   "execution_count": 4,
   "metadata": {},
   "outputs": [
    {
     "name": "stdout",
     "output_type": "stream",
     "text": [
      "<class 'pandas.core.frame.DataFrame'>\n",
      "RangeIndex: 43776 entries, 0 to 43775\n",
      "Data columns (total 6 columns):\n",
      " #   Column       Non-Null Count  Dtype  \n",
      "---  ------       --------------  -----  \n",
      " 0   country      43776 non-null  object \n",
      " 1   year         43776 non-null  int64  \n",
      " 2   sex          43776 non-null  object \n",
      " 3   age          43776 non-null  object \n",
      " 4   suicides_no  41520 non-null  float64\n",
      " 5   population   38316 non-null  float64\n",
      "dtypes: float64(2), int64(1), object(3)\n",
      "memory usage: 2.0+ MB\n"
     ]
    }
   ],
   "source": [
    "data.info()"
   ]
  },
  {
   "cell_type": "code",
   "execution_count": 6,
   "metadata": {},
   "outputs": [
    {
     "data": {
      "text/html": [
       "<div>\n",
       "<style scoped>\n",
       "    .dataframe tbody tr th:only-of-type {\n",
       "        vertical-align: middle;\n",
       "    }\n",
       "\n",
       "    .dataframe tbody tr th {\n",
       "        vertical-align: top;\n",
       "    }\n",
       "\n",
       "    .dataframe thead th {\n",
       "        text-align: right;\n",
       "    }\n",
       "</style>\n",
       "<table border=\"1\" class=\"dataframe\">\n",
       "  <thead>\n",
       "    <tr style=\"text-align: right;\">\n",
       "      <th></th>\n",
       "      <th>country</th>\n",
       "      <th>year</th>\n",
       "      <th>sex</th>\n",
       "      <th>age</th>\n",
       "      <th>suicides_no</th>\n",
       "      <th>population</th>\n",
       "    </tr>\n",
       "  </thead>\n",
       "  <tbody>\n",
       "    <tr>\n",
       "      <th>0</th>\n",
       "      <td>Albania</td>\n",
       "      <td>1985</td>\n",
       "      <td>female</td>\n",
       "      <td>15-24 years</td>\n",
       "      <td>NaN</td>\n",
       "      <td>277900.0</td>\n",
       "    </tr>\n",
       "    <tr>\n",
       "      <th>1</th>\n",
       "      <td>Albania</td>\n",
       "      <td>1985</td>\n",
       "      <td>female</td>\n",
       "      <td>25-34 years</td>\n",
       "      <td>NaN</td>\n",
       "      <td>246800.0</td>\n",
       "    </tr>\n",
       "    <tr>\n",
       "      <th>2</th>\n",
       "      <td>Albania</td>\n",
       "      <td>1985</td>\n",
       "      <td>female</td>\n",
       "      <td>35-54 years</td>\n",
       "      <td>NaN</td>\n",
       "      <td>267500.0</td>\n",
       "    </tr>\n",
       "    <tr>\n",
       "      <th>3</th>\n",
       "      <td>Albania</td>\n",
       "      <td>1985</td>\n",
       "      <td>female</td>\n",
       "      <td>5-14 years</td>\n",
       "      <td>NaN</td>\n",
       "      <td>298300.0</td>\n",
       "    </tr>\n",
       "    <tr>\n",
       "      <th>4</th>\n",
       "      <td>Albania</td>\n",
       "      <td>1985</td>\n",
       "      <td>female</td>\n",
       "      <td>55-74 years</td>\n",
       "      <td>NaN</td>\n",
       "      <td>138700.0</td>\n",
       "    </tr>\n",
       "  </tbody>\n",
       "</table>\n",
       "</div>"
      ],
      "text/plain": [
       "   country  year     sex          age  suicides_no  population\n",
       "0  Albania  1985  female  15-24 years          NaN    277900.0\n",
       "1  Albania  1985  female  25-34 years          NaN    246800.0\n",
       "2  Albania  1985  female  35-54 years          NaN    267500.0\n",
       "3  Albania  1985  female   5-14 years          NaN    298300.0\n",
       "4  Albania  1985  female  55-74 years          NaN    138700.0"
      ]
     },
     "execution_count": 6,
     "metadata": {},
     "output_type": "execute_result"
    }
   ],
   "source": [
    "data.head()"
   ]
  },
  {
   "cell_type": "code",
   "execution_count": 7,
   "metadata": {},
   "outputs": [
    {
     "data": {
      "text/html": [
       "<div>\n",
       "<style scoped>\n",
       "    .dataframe tbody tr th:only-of-type {\n",
       "        vertical-align: middle;\n",
       "    }\n",
       "\n",
       "    .dataframe tbody tr th {\n",
       "        vertical-align: top;\n",
       "    }\n",
       "\n",
       "    .dataframe thead th {\n",
       "        text-align: right;\n",
       "    }\n",
       "</style>\n",
       "<table border=\"1\" class=\"dataframe\">\n",
       "  <thead>\n",
       "    <tr style=\"text-align: right;\">\n",
       "      <th></th>\n",
       "      <th>country</th>\n",
       "      <th>year</th>\n",
       "      <th>sex</th>\n",
       "      <th>age</th>\n",
       "      <th>suicides_no</th>\n",
       "      <th>population</th>\n",
       "    </tr>\n",
       "  </thead>\n",
       "  <tbody>\n",
       "    <tr>\n",
       "      <th>0</th>\n",
       "      <td>Albania</td>\n",
       "      <td>1985</td>\n",
       "      <td>female</td>\n",
       "      <td>15-24 years</td>\n",
       "      <td>NaN</td>\n",
       "      <td>277900.0</td>\n",
       "    </tr>\n",
       "    <tr>\n",
       "      <th>1</th>\n",
       "      <td>Albania</td>\n",
       "      <td>1985</td>\n",
       "      <td>female</td>\n",
       "      <td>25-34 years</td>\n",
       "      <td>NaN</td>\n",
       "      <td>246800.0</td>\n",
       "    </tr>\n",
       "    <tr>\n",
       "      <th>2</th>\n",
       "      <td>Albania</td>\n",
       "      <td>1985</td>\n",
       "      <td>female</td>\n",
       "      <td>35-54 years</td>\n",
       "      <td>NaN</td>\n",
       "      <td>267500.0</td>\n",
       "    </tr>\n",
       "    <tr>\n",
       "      <th>3</th>\n",
       "      <td>Albania</td>\n",
       "      <td>1985</td>\n",
       "      <td>female</td>\n",
       "      <td>5-14 years</td>\n",
       "      <td>NaN</td>\n",
       "      <td>298300.0</td>\n",
       "    </tr>\n",
       "    <tr>\n",
       "      <th>4</th>\n",
       "      <td>Albania</td>\n",
       "      <td>1985</td>\n",
       "      <td>female</td>\n",
       "      <td>55-74 years</td>\n",
       "      <td>NaN</td>\n",
       "      <td>138700.0</td>\n",
       "    </tr>\n",
       "    <tr>\n",
       "      <th>...</th>\n",
       "      <td>...</td>\n",
       "      <td>...</td>\n",
       "      <td>...</td>\n",
       "      <td>...</td>\n",
       "      <td>...</td>\n",
       "      <td>...</td>\n",
       "    </tr>\n",
       "    <tr>\n",
       "      <th>367</th>\n",
       "      <td>Albania</td>\n",
       "      <td>2015</td>\n",
       "      <td>male</td>\n",
       "      <td>25-34 years</td>\n",
       "      <td>NaN</td>\n",
       "      <td>222680.0</td>\n",
       "    </tr>\n",
       "    <tr>\n",
       "      <th>368</th>\n",
       "      <td>Albania</td>\n",
       "      <td>2015</td>\n",
       "      <td>male</td>\n",
       "      <td>35-54 years</td>\n",
       "      <td>NaN</td>\n",
       "      <td>374464.0</td>\n",
       "    </tr>\n",
       "    <tr>\n",
       "      <th>369</th>\n",
       "      <td>Albania</td>\n",
       "      <td>2015</td>\n",
       "      <td>male</td>\n",
       "      <td>5-14 years</td>\n",
       "      <td>NaN</td>\n",
       "      <td>184114.0</td>\n",
       "    </tr>\n",
       "    <tr>\n",
       "      <th>370</th>\n",
       "      <td>Albania</td>\n",
       "      <td>2015</td>\n",
       "      <td>male</td>\n",
       "      <td>55-74 years</td>\n",
       "      <td>NaN</td>\n",
       "      <td>287770.0</td>\n",
       "    </tr>\n",
       "    <tr>\n",
       "      <th>371</th>\n",
       "      <td>Albania</td>\n",
       "      <td>2015</td>\n",
       "      <td>male</td>\n",
       "      <td>75+ years</td>\n",
       "      <td>NaN</td>\n",
       "      <td>64200.0</td>\n",
       "    </tr>\n",
       "  </tbody>\n",
       "</table>\n",
       "<p>372 rows × 6 columns</p>\n",
       "</div>"
      ],
      "text/plain": [
       "     country  year     sex          age  suicides_no  population\n",
       "0    Albania  1985  female  15-24 years          NaN    277900.0\n",
       "1    Albania  1985  female  25-34 years          NaN    246800.0\n",
       "2    Albania  1985  female  35-54 years          NaN    267500.0\n",
       "3    Albania  1985  female   5-14 years          NaN    298300.0\n",
       "4    Albania  1985  female  55-74 years          NaN    138700.0\n",
       "..       ...   ...     ...          ...          ...         ...\n",
       "367  Albania  2015    male  25-34 years          NaN    222680.0\n",
       "368  Albania  2015    male  35-54 years          NaN    374464.0\n",
       "369  Albania  2015    male   5-14 years          NaN    184114.0\n",
       "370  Albania  2015    male  55-74 years          NaN    287770.0\n",
       "371  Albania  2015    male    75+ years          NaN     64200.0\n",
       "\n",
       "[372 rows x 6 columns]"
      ]
     },
     "execution_count": 7,
     "metadata": {},
     "output_type": "execute_result"
    }
   ],
   "source": [
    "data.loc[data['country'] == 'Albania']"
   ]
  },
  {
   "cell_type": "markdown",
   "metadata": {},
   "source": [
    "trying to get the distribution of the sex in the population"
   ]
  },
  {
   "cell_type": "code",
   "execution_count": 8,
   "metadata": {},
   "outputs": [],
   "source": [
    "per_country = pd.DataFrame(data[['country','sex', 'population']].groupby(['country','sex']).sum())"
   ]
  },
  {
   "cell_type": "code",
   "execution_count": 9,
   "metadata": {
    "scrolled": true
   },
   "outputs": [
    {
     "data": {
      "text/html": [
       "<div>\n",
       "<style scoped>\n",
       "    .dataframe tbody tr th:only-of-type {\n",
       "        vertical-align: middle;\n",
       "    }\n",
       "\n",
       "    .dataframe tbody tr th {\n",
       "        vertical-align: top;\n",
       "    }\n",
       "\n",
       "    .dataframe thead th {\n",
       "        text-align: right;\n",
       "    }\n",
       "</style>\n",
       "<table border=\"1\" class=\"dataframe\">\n",
       "  <thead>\n",
       "    <tr style=\"text-align: right;\">\n",
       "      <th></th>\n",
       "      <th></th>\n",
       "      <th>population</th>\n",
       "    </tr>\n",
       "    <tr>\n",
       "      <th>country</th>\n",
       "      <th>sex</th>\n",
       "      <th></th>\n",
       "    </tr>\n",
       "  </thead>\n",
       "  <tbody>\n",
       "    <tr>\n",
       "      <th rowspan=\"2\" valign=\"top\">Albania</th>\n",
       "      <th>female</th>\n",
       "      <td>43474147.0</td>\n",
       "    </tr>\n",
       "    <tr>\n",
       "      <th>male</th>\n",
       "      <td>43518565.0</td>\n",
       "    </tr>\n",
       "    <tr>\n",
       "      <th rowspan=\"2\" valign=\"top\">Anguilla</th>\n",
       "      <th>female</th>\n",
       "      <td>0.0</td>\n",
       "    </tr>\n",
       "    <tr>\n",
       "      <th>male</th>\n",
       "      <td>0.0</td>\n",
       "    </tr>\n",
       "    <tr>\n",
       "      <th>Antigua and Barbuda</th>\n",
       "      <th>female</th>\n",
       "      <td>1072434.0</td>\n",
       "    </tr>\n",
       "    <tr>\n",
       "      <th>...</th>\n",
       "      <th>...</th>\n",
       "      <td>...</td>\n",
       "    </tr>\n",
       "    <tr>\n",
       "      <th>Venezuela (Bolivarian Republic of)</th>\n",
       "      <th>male</th>\n",
       "      <td>320602418.0</td>\n",
       "    </tr>\n",
       "    <tr>\n",
       "      <th rowspan=\"2\" valign=\"top\">Virgin Islands (USA)</th>\n",
       "      <th>female</th>\n",
       "      <td>1018825.0</td>\n",
       "    </tr>\n",
       "    <tr>\n",
       "      <th>male</th>\n",
       "      <td>941663.0</td>\n",
       "    </tr>\n",
       "    <tr>\n",
       "      <th rowspan=\"2\" valign=\"top\">Zimbabwe</th>\n",
       "      <th>female</th>\n",
       "      <td>0.0</td>\n",
       "    </tr>\n",
       "    <tr>\n",
       "      <th>male</th>\n",
       "      <td>0.0</td>\n",
       "    </tr>\n",
       "  </tbody>\n",
       "</table>\n",
       "<p>282 rows × 1 columns</p>\n",
       "</div>"
      ],
      "text/plain": [
       "                                            population\n",
       "country                            sex                \n",
       "Albania                            female   43474147.0\n",
       "                                   male     43518565.0\n",
       "Anguilla                           female          0.0\n",
       "                                   male            0.0\n",
       "Antigua and Barbuda                female    1072434.0\n",
       "...                                                ...\n",
       "Venezuela (Bolivarian Republic of) male    320602418.0\n",
       "Virgin Islands (USA)               female    1018825.0\n",
       "                                   male       941663.0\n",
       "Zimbabwe                           female          0.0\n",
       "                                   male            0.0\n",
       "\n",
       "[282 rows x 1 columns]"
      ]
     },
     "execution_count": 9,
     "metadata": {},
     "output_type": "execute_result"
    }
   ],
   "source": [
    "per_country"
   ]
  },
  {
   "cell_type": "markdown",
   "metadata": {},
   "source": [
    "### Task 2: \n",
    "    Find the year with the highest suicide rate of each:\n",
    "-\tage group.\n",
    "-\tGender\n"
   ]
  },
  {
   "cell_type": "markdown",
   "metadata": {},
   "source": [
    ">Age Group"
   ]
  },
  {
   "cell_type": "code",
   "execution_count": 20,
   "metadata": {},
   "outputs": [],
   "source": [
    "# creating a copy of the data to use for this question\n",
    "data_2 = data.copy()"
   ]
  },
  {
   "cell_type": "code",
   "execution_count": 21,
   "metadata": {},
   "outputs": [
    {
     "data": {
      "text/html": [
       "<div>\n",
       "<style scoped>\n",
       "    .dataframe tbody tr th:only-of-type {\n",
       "        vertical-align: middle;\n",
       "    }\n",
       "\n",
       "    .dataframe tbody tr th {\n",
       "        vertical-align: top;\n",
       "    }\n",
       "\n",
       "    .dataframe thead th {\n",
       "        text-align: right;\n",
       "    }\n",
       "</style>\n",
       "<table border=\"1\" class=\"dataframe\">\n",
       "  <thead>\n",
       "    <tr style=\"text-align: right;\">\n",
       "      <th></th>\n",
       "      <th>country</th>\n",
       "      <th>year</th>\n",
       "      <th>sex</th>\n",
       "      <th>age</th>\n",
       "      <th>suicides_no</th>\n",
       "      <th>population</th>\n",
       "    </tr>\n",
       "  </thead>\n",
       "  <tbody>\n",
       "    <tr>\n",
       "      <th>0</th>\n",
       "      <td>Albania</td>\n",
       "      <td>1985</td>\n",
       "      <td>female</td>\n",
       "      <td>15-24 years</td>\n",
       "      <td>NaN</td>\n",
       "      <td>277900.0</td>\n",
       "    </tr>\n",
       "    <tr>\n",
       "      <th>1</th>\n",
       "      <td>Albania</td>\n",
       "      <td>1985</td>\n",
       "      <td>female</td>\n",
       "      <td>25-34 years</td>\n",
       "      <td>NaN</td>\n",
       "      <td>246800.0</td>\n",
       "    </tr>\n",
       "    <tr>\n",
       "      <th>2</th>\n",
       "      <td>Albania</td>\n",
       "      <td>1985</td>\n",
       "      <td>female</td>\n",
       "      <td>35-54 years</td>\n",
       "      <td>NaN</td>\n",
       "      <td>267500.0</td>\n",
       "    </tr>\n",
       "    <tr>\n",
       "      <th>3</th>\n",
       "      <td>Albania</td>\n",
       "      <td>1985</td>\n",
       "      <td>female</td>\n",
       "      <td>5-14 years</td>\n",
       "      <td>NaN</td>\n",
       "      <td>298300.0</td>\n",
       "    </tr>\n",
       "    <tr>\n",
       "      <th>4</th>\n",
       "      <td>Albania</td>\n",
       "      <td>1985</td>\n",
       "      <td>female</td>\n",
       "      <td>55-74 years</td>\n",
       "      <td>NaN</td>\n",
       "      <td>138700.0</td>\n",
       "    </tr>\n",
       "    <tr>\n",
       "      <th>...</th>\n",
       "      <td>...</td>\n",
       "      <td>...</td>\n",
       "      <td>...</td>\n",
       "      <td>...</td>\n",
       "      <td>...</td>\n",
       "      <td>...</td>\n",
       "    </tr>\n",
       "    <tr>\n",
       "      <th>43771</th>\n",
       "      <td>Zimbabwe</td>\n",
       "      <td>1990</td>\n",
       "      <td>male</td>\n",
       "      <td>25-34 years</td>\n",
       "      <td>150.0</td>\n",
       "      <td>NaN</td>\n",
       "    </tr>\n",
       "    <tr>\n",
       "      <th>43772</th>\n",
       "      <td>Zimbabwe</td>\n",
       "      <td>1990</td>\n",
       "      <td>male</td>\n",
       "      <td>35-54 years</td>\n",
       "      <td>132.0</td>\n",
       "      <td>NaN</td>\n",
       "    </tr>\n",
       "    <tr>\n",
       "      <th>43773</th>\n",
       "      <td>Zimbabwe</td>\n",
       "      <td>1990</td>\n",
       "      <td>male</td>\n",
       "      <td>5-14 years</td>\n",
       "      <td>6.0</td>\n",
       "      <td>NaN</td>\n",
       "    </tr>\n",
       "    <tr>\n",
       "      <th>43774</th>\n",
       "      <td>Zimbabwe</td>\n",
       "      <td>1990</td>\n",
       "      <td>male</td>\n",
       "      <td>55-74 years</td>\n",
       "      <td>74.0</td>\n",
       "      <td>NaN</td>\n",
       "    </tr>\n",
       "    <tr>\n",
       "      <th>43775</th>\n",
       "      <td>Zimbabwe</td>\n",
       "      <td>1990</td>\n",
       "      <td>male</td>\n",
       "      <td>75+ years</td>\n",
       "      <td>13.0</td>\n",
       "      <td>NaN</td>\n",
       "    </tr>\n",
       "  </tbody>\n",
       "</table>\n",
       "<p>43776 rows × 6 columns</p>\n",
       "</div>"
      ],
      "text/plain": [
       "        country  year     sex          age  suicides_no  population\n",
       "0       Albania  1985  female  15-24 years          NaN    277900.0\n",
       "1       Albania  1985  female  25-34 years          NaN    246800.0\n",
       "2       Albania  1985  female  35-54 years          NaN    267500.0\n",
       "3       Albania  1985  female   5-14 years          NaN    298300.0\n",
       "4       Albania  1985  female  55-74 years          NaN    138700.0\n",
       "...         ...   ...     ...          ...          ...         ...\n",
       "43771  Zimbabwe  1990    male  25-34 years        150.0         NaN\n",
       "43772  Zimbabwe  1990    male  35-54 years        132.0         NaN\n",
       "43773  Zimbabwe  1990    male   5-14 years          6.0         NaN\n",
       "43774  Zimbabwe  1990    male  55-74 years         74.0         NaN\n",
       "43775  Zimbabwe  1990    male    75+ years         13.0         NaN\n",
       "\n",
       "[43776 rows x 6 columns]"
      ]
     },
     "execution_count": 21,
     "metadata": {},
     "output_type": "execute_result"
    }
   ],
   "source": [
    "data_2"
   ]
  },
  {
   "cell_type": "code",
   "execution_count": 36,
   "metadata": {},
   "outputs": [
    {
     "data": {
      "text/html": [
       "<div>\n",
       "<style scoped>\n",
       "    .dataframe tbody tr th:only-of-type {\n",
       "        vertical-align: middle;\n",
       "    }\n",
       "\n",
       "    .dataframe tbody tr th {\n",
       "        vertical-align: top;\n",
       "    }\n",
       "\n",
       "    .dataframe thead th {\n",
       "        text-align: right;\n",
       "    }\n",
       "</style>\n",
       "<table border=\"1\" class=\"dataframe\">\n",
       "  <thead>\n",
       "    <tr style=\"text-align: right;\">\n",
       "      <th></th>\n",
       "      <th></th>\n",
       "      <th>suicides_no</th>\n",
       "    </tr>\n",
       "    <tr>\n",
       "      <th>sex</th>\n",
       "      <th>year</th>\n",
       "      <th></th>\n",
       "    </tr>\n",
       "  </thead>\n",
       "  <tbody>\n",
       "    <tr>\n",
       "      <th rowspan=\"5\" valign=\"top\">female</th>\n",
       "      <th>1979</th>\n",
       "      <td>29418.0</td>\n",
       "    </tr>\n",
       "    <tr>\n",
       "      <th>1980</th>\n",
       "      <td>42662.0</td>\n",
       "    </tr>\n",
       "    <tr>\n",
       "      <th>1981</th>\n",
       "      <td>47530.0</td>\n",
       "    </tr>\n",
       "    <tr>\n",
       "      <th>1982</th>\n",
       "      <td>47681.0</td>\n",
       "    </tr>\n",
       "    <tr>\n",
       "      <th>1983</th>\n",
       "      <td>34823.0</td>\n",
       "    </tr>\n",
       "    <tr>\n",
       "      <th>...</th>\n",
       "      <th>...</th>\n",
       "      <td>...</td>\n",
       "    </tr>\n",
       "    <tr>\n",
       "      <th rowspan=\"5\" valign=\"top\">male</th>\n",
       "      <th>2012</th>\n",
       "      <td>180051.0</td>\n",
       "    </tr>\n",
       "    <tr>\n",
       "      <th>2013</th>\n",
       "      <td>176198.0</td>\n",
       "    </tr>\n",
       "    <tr>\n",
       "      <th>2014</th>\n",
       "      <td>174763.0</td>\n",
       "    </tr>\n",
       "    <tr>\n",
       "      <th>2015</th>\n",
       "      <td>159382.0</td>\n",
       "    </tr>\n",
       "    <tr>\n",
       "      <th>2016</th>\n",
       "      <td>12775.0</td>\n",
       "    </tr>\n",
       "  </tbody>\n",
       "</table>\n",
       "<p>76 rows × 1 columns</p>\n",
       "</div>"
      ],
      "text/plain": [
       "             suicides_no\n",
       "sex    year             \n",
       "female 1979      29418.0\n",
       "       1980      42662.0\n",
       "       1981      47530.0\n",
       "       1982      47681.0\n",
       "       1983      34823.0\n",
       "...                  ...\n",
       "male   2012     180051.0\n",
       "       2013     176198.0\n",
       "       2014     174763.0\n",
       "       2015     159382.0\n",
       "       2016      12775.0\n",
       "\n",
       "[76 rows x 1 columns]"
      ]
     },
     "execution_count": 36,
     "metadata": {},
     "output_type": "execute_result"
    }
   ],
   "source": [
    "# to note that we are considering sex, year, and suicides number\n",
    "x =  data_2[['sex', 'year','suicides_no']].groupby(['sex','year']).sum()\n",
    "x"
   ]
  },
  {
   "cell_type": "code",
   "execution_count": 49,
   "metadata": {
    "scrolled": false
   },
   "outputs": [
    {
     "data": {
      "text/html": [
       "<div>\n",
       "<style scoped>\n",
       "    .dataframe tbody tr th:only-of-type {\n",
       "        vertical-align: middle;\n",
       "    }\n",
       "\n",
       "    .dataframe tbody tr th {\n",
       "        vertical-align: top;\n",
       "    }\n",
       "\n",
       "    .dataframe thead th {\n",
       "        text-align: right;\n",
       "    }\n",
       "</style>\n",
       "<table border=\"1\" class=\"dataframe\">\n",
       "  <thead>\n",
       "    <tr style=\"text-align: right;\">\n",
       "      <th></th>\n",
       "      <th></th>\n",
       "      <th>suicides_no</th>\n",
       "    </tr>\n",
       "    <tr>\n",
       "      <th>sex</th>\n",
       "      <th>year</th>\n",
       "      <th></th>\n",
       "    </tr>\n",
       "  </thead>\n",
       "  <tbody>\n",
       "    <tr>\n",
       "      <th rowspan=\"5\" valign=\"top\">male</th>\n",
       "      <th>2002</th>\n",
       "      <td>203814.0</td>\n",
       "    </tr>\n",
       "    <tr>\n",
       "      <th>2003</th>\n",
       "      <td>203763.0</td>\n",
       "    </tr>\n",
       "    <tr>\n",
       "      <th>2000</th>\n",
       "      <td>203662.0</td>\n",
       "    </tr>\n",
       "    <tr>\n",
       "      <th>1999</th>\n",
       "      <td>202787.0</td>\n",
       "    </tr>\n",
       "    <tr>\n",
       "      <th>2001</th>\n",
       "      <td>200930.0</td>\n",
       "    </tr>\n",
       "    <tr>\n",
       "      <th>...</th>\n",
       "      <th>...</th>\n",
       "      <td>...</td>\n",
       "    </tr>\n",
       "    <tr>\n",
       "      <th rowspan=\"5\" valign=\"top\">female</th>\n",
       "      <th>1980</th>\n",
       "      <td>42662.0</td>\n",
       "    </tr>\n",
       "    <tr>\n",
       "      <th>1983</th>\n",
       "      <td>34823.0</td>\n",
       "    </tr>\n",
       "    <tr>\n",
       "      <th>1984</th>\n",
       "      <td>34811.0</td>\n",
       "    </tr>\n",
       "    <tr>\n",
       "      <th>1979</th>\n",
       "      <td>29418.0</td>\n",
       "    </tr>\n",
       "    <tr>\n",
       "      <th>2016</th>\n",
       "      <td>3708.0</td>\n",
       "    </tr>\n",
       "  </tbody>\n",
       "</table>\n",
       "<p>76 rows × 1 columns</p>\n",
       "</div>"
      ],
      "text/plain": [
       "             suicides_no\n",
       "sex    year             \n",
       "male   2002     203814.0\n",
       "       2003     203763.0\n",
       "       2000     203662.0\n",
       "       1999     202787.0\n",
       "       2001     200930.0\n",
       "...                  ...\n",
       "female 1980      42662.0\n",
       "       1983      34823.0\n",
       "       1984      34811.0\n",
       "       1979      29418.0\n",
       "       2016       3708.0\n",
       "\n",
       "[76 rows x 1 columns]"
      ]
     },
     "execution_count": 49,
     "metadata": {},
     "output_type": "execute_result"
    }
   ],
   "source": [
    "x.sort_values(by=['sex', 'suicides_no'], ascending=False)"
   ]
  },
  {
   "cell_type": "markdown",
   "metadata": {},
   "source": [
    "### we can see that the year with the most male suicides is 2002"
   ]
  },
  {
   "cell_type": "code",
   "execution_count": 47,
   "metadata": {
    "scrolled": true
   },
   "outputs": [
    {
     "data": {
      "text/html": [
       "<div>\n",
       "<style scoped>\n",
       "    .dataframe tbody tr th:only-of-type {\n",
       "        vertical-align: middle;\n",
       "    }\n",
       "\n",
       "    .dataframe tbody tr th {\n",
       "        vertical-align: top;\n",
       "    }\n",
       "\n",
       "    .dataframe thead th {\n",
       "        text-align: right;\n",
       "    }\n",
       "</style>\n",
       "<table border=\"1\" class=\"dataframe\">\n",
       "  <thead>\n",
       "    <tr style=\"text-align: right;\">\n",
       "      <th></th>\n",
       "      <th></th>\n",
       "      <th>suicides_no</th>\n",
       "    </tr>\n",
       "    <tr>\n",
       "      <th>sex</th>\n",
       "      <th>year</th>\n",
       "      <th></th>\n",
       "    </tr>\n",
       "  </thead>\n",
       "  <tbody>\n",
       "    <tr>\n",
       "      <th rowspan=\"8\" valign=\"top\">male</th>\n",
       "      <th>1982</th>\n",
       "      <td>135212.0</td>\n",
       "    </tr>\n",
       "    <tr>\n",
       "      <th>1988</th>\n",
       "      <td>132898.0</td>\n",
       "    </tr>\n",
       "    <tr>\n",
       "      <th>1981</th>\n",
       "      <td>130484.0</td>\n",
       "    </tr>\n",
       "    <tr>\n",
       "      <th>1980</th>\n",
       "      <td>110886.0</td>\n",
       "    </tr>\n",
       "    <tr>\n",
       "      <th>1984</th>\n",
       "      <td>89616.0</td>\n",
       "    </tr>\n",
       "    <tr>\n",
       "      <th>1983</th>\n",
       "      <td>87607.0</td>\n",
       "    </tr>\n",
       "    <tr>\n",
       "      <th>1979</th>\n",
       "      <td>63372.0</td>\n",
       "    </tr>\n",
       "    <tr>\n",
       "      <th>2016</th>\n",
       "      <td>12775.0</td>\n",
       "    </tr>\n",
       "    <tr>\n",
       "      <th rowspan=\"38\" valign=\"top\">female</th>\n",
       "      <th>1999</th>\n",
       "      <td>57197.0</td>\n",
       "    </tr>\n",
       "    <tr>\n",
       "      <th>2003</th>\n",
       "      <td>56666.0</td>\n",
       "    </tr>\n",
       "    <tr>\n",
       "      <th>1998</th>\n",
       "      <td>56609.0</td>\n",
       "    </tr>\n",
       "    <tr>\n",
       "      <th>2002</th>\n",
       "      <td>56587.0</td>\n",
       "    </tr>\n",
       "    <tr>\n",
       "      <th>2000</th>\n",
       "      <td>56243.0</td>\n",
       "    </tr>\n",
       "    <tr>\n",
       "      <th>2009</th>\n",
       "      <td>55889.0</td>\n",
       "    </tr>\n",
       "    <tr>\n",
       "      <th>1996</th>\n",
       "      <td>55514.0</td>\n",
       "    </tr>\n",
       "    <tr>\n",
       "      <th>2011</th>\n",
       "      <td>55468.0</td>\n",
       "    </tr>\n",
       "    <tr>\n",
       "      <th>1995</th>\n",
       "      <td>55235.0</td>\n",
       "    </tr>\n",
       "    <tr>\n",
       "      <th>2010</th>\n",
       "      <td>55129.0</td>\n",
       "    </tr>\n",
       "    <tr>\n",
       "      <th>1997</th>\n",
       "      <td>55054.0</td>\n",
       "    </tr>\n",
       "    <tr>\n",
       "      <th>2008</th>\n",
       "      <td>54997.0</td>\n",
       "    </tr>\n",
       "    <tr>\n",
       "      <th>2004</th>\n",
       "      <td>54347.0</td>\n",
       "    </tr>\n",
       "    <tr>\n",
       "      <th>2007</th>\n",
       "      <td>54290.0</td>\n",
       "    </tr>\n",
       "    <tr>\n",
       "      <th>2001</th>\n",
       "      <td>54141.0</td>\n",
       "    </tr>\n",
       "    <tr>\n",
       "      <th>2012</th>\n",
       "      <td>54034.0</td>\n",
       "    </tr>\n",
       "    <tr>\n",
       "      <th>1994</th>\n",
       "      <td>53525.0</td>\n",
       "    </tr>\n",
       "    <tr>\n",
       "      <th>1992</th>\n",
       "      <td>53466.0</td>\n",
       "    </tr>\n",
       "    <tr>\n",
       "      <th>1990</th>\n",
       "      <td>53388.0</td>\n",
       "    </tr>\n",
       "    <tr>\n",
       "      <th>2013</th>\n",
       "      <td>53223.0</td>\n",
       "    </tr>\n",
       "    <tr>\n",
       "      <th>2005</th>\n",
       "      <td>53123.0</td>\n",
       "    </tr>\n",
       "    <tr>\n",
       "      <th>1993</th>\n",
       "      <td>53093.0</td>\n",
       "    </tr>\n",
       "    <tr>\n",
       "      <th>2014</th>\n",
       "      <td>53030.0</td>\n",
       "    </tr>\n",
       "    <tr>\n",
       "      <th>2006</th>\n",
       "      <td>53016.0</td>\n",
       "    </tr>\n",
       "    <tr>\n",
       "      <th>1986</th>\n",
       "      <td>51517.0</td>\n",
       "    </tr>\n",
       "    <tr>\n",
       "      <th>1991</th>\n",
       "      <td>51351.0</td>\n",
       "    </tr>\n",
       "    <tr>\n",
       "      <th>1985</th>\n",
       "      <td>50417.0</td>\n",
       "    </tr>\n",
       "    <tr>\n",
       "      <th>1987</th>\n",
       "      <td>50251.0</td>\n",
       "    </tr>\n",
       "    <tr>\n",
       "      <th>2015</th>\n",
       "      <td>48526.0</td>\n",
       "    </tr>\n",
       "    <tr>\n",
       "      <th>1988</th>\n",
       "      <td>48518.0</td>\n",
       "    </tr>\n",
       "    <tr>\n",
       "      <th>1989</th>\n",
       "      <td>47795.0</td>\n",
       "    </tr>\n",
       "    <tr>\n",
       "      <th>1982</th>\n",
       "      <td>47681.0</td>\n",
       "    </tr>\n",
       "    <tr>\n",
       "      <th>1981</th>\n",
       "      <td>47530.0</td>\n",
       "    </tr>\n",
       "    <tr>\n",
       "      <th>1980</th>\n",
       "      <td>42662.0</td>\n",
       "    </tr>\n",
       "    <tr>\n",
       "      <th>1983</th>\n",
       "      <td>34823.0</td>\n",
       "    </tr>\n",
       "    <tr>\n",
       "      <th>1984</th>\n",
       "      <td>34811.0</td>\n",
       "    </tr>\n",
       "    <tr>\n",
       "      <th>1979</th>\n",
       "      <td>29418.0</td>\n",
       "    </tr>\n",
       "    <tr>\n",
       "      <th>2016</th>\n",
       "      <td>3708.0</td>\n",
       "    </tr>\n",
       "  </tbody>\n",
       "</table>\n",
       "</div>"
      ],
      "text/plain": [
       "             suicides_no\n",
       "sex    year             \n",
       "male   1982     135212.0\n",
       "       1988     132898.0\n",
       "       1981     130484.0\n",
       "       1980     110886.0\n",
       "       1984      89616.0\n",
       "       1983      87607.0\n",
       "       1979      63372.0\n",
       "       2016      12775.0\n",
       "female 1999      57197.0\n",
       "       2003      56666.0\n",
       "       1998      56609.0\n",
       "       2002      56587.0\n",
       "       2000      56243.0\n",
       "       2009      55889.0\n",
       "       1996      55514.0\n",
       "       2011      55468.0\n",
       "       1995      55235.0\n",
       "       2010      55129.0\n",
       "       1997      55054.0\n",
       "       2008      54997.0\n",
       "       2004      54347.0\n",
       "       2007      54290.0\n",
       "       2001      54141.0\n",
       "       2012      54034.0\n",
       "       1994      53525.0\n",
       "       1992      53466.0\n",
       "       1990      53388.0\n",
       "       2013      53223.0\n",
       "       2005      53123.0\n",
       "       1993      53093.0\n",
       "       2014      53030.0\n",
       "       2006      53016.0\n",
       "       1986      51517.0\n",
       "       1991      51351.0\n",
       "       1985      50417.0\n",
       "       1987      50251.0\n",
       "       2015      48526.0\n",
       "       1988      48518.0\n",
       "       1989      47795.0\n",
       "       1982      47681.0\n",
       "       1981      47530.0\n",
       "       1980      42662.0\n",
       "       1983      34823.0\n",
       "       1984      34811.0\n",
       "       1979      29418.0\n",
       "       2016       3708.0"
      ]
     },
     "execution_count": 47,
     "metadata": {},
     "output_type": "execute_result"
    }
   ],
   "source": [
    "x.sort_values(by=['sex', 'suicides_no'], ascending=False)[30:]"
   ]
  },
  {
   "cell_type": "markdown",
   "metadata": {},
   "source": [
    "### The year with the highest female suicides around the world is 1999"
   ]
  },
  {
   "cell_type": "markdown",
   "metadata": {},
   "source": [
    " "
   ]
  },
  {
   "cell_type": "code",
   "execution_count": 65,
   "metadata": {
    "scrolled": true
   },
   "outputs": [
    {
     "data": {
      "text/plain": [
       "MultiIndex([('male', 2002),\n",
       "            ('male', 2003),\n",
       "            ('male', 2000),\n",
       "            ('male', 1999),\n",
       "            ('male', 2001),\n",
       "            ('male', 1998),\n",
       "            ('male', 1996),\n",
       "            ('male', 2009),\n",
       "            ('male', 2004),\n",
       "            ('male', 1995),\n",
       "            ('male', 1997),\n",
       "            ('male', 2010),\n",
       "            ('male', 1994),\n",
       "            ('male', 2005),\n",
       "            ('male', 2011),\n",
       "            ('male', 2008),\n",
       "            ('male', 2006),\n",
       "            ('male', 2007),\n",
       "            ('male', 2012),\n",
       "            ('male', 2013),\n",
       "            ('male', 1993),\n",
       "            ('male', 2014),\n",
       "            ('male', 1992),\n",
       "            ('male', 2015),\n",
       "            ('male', 1991),\n",
       "            ('male', 1990),\n",
       "            ('male', 1985),\n",
       "            ('male', 1989),\n",
       "            ('male', 1986),\n",
       "            ('male', 1987),\n",
       "            ('male', 1982),\n",
       "            ('male', 1988),\n",
       "            ('male', 1981),\n",
       "            ('male', 1980),\n",
       "            ('male', 1984),\n",
       "            ('male', 1983),\n",
       "            ('male', 1979),\n",
       "            ('male', 2016)],\n",
       "           names=['sex', 'year'])"
      ]
     },
     "execution_count": 65,
     "metadata": {},
     "output_type": "execute_result"
    }
   ],
   "source": [
    "# the years for the male\n",
    "new = x.sort_values(by=['sex', 'suicides_no'], ascending=False).index[:38]\n",
    "new"
   ]
  },
  {
   "cell_type": "code",
   "execution_count": 66,
   "metadata": {
    "collapsed": true
   },
   "outputs": [
    {
     "data": {
      "text/plain": [
       "[2002,\n",
       " 2003,\n",
       " 2000,\n",
       " 1999,\n",
       " 2001,\n",
       " 1998,\n",
       " 1996,\n",
       " 2009,\n",
       " 2004,\n",
       " 1995,\n",
       " 1997,\n",
       " 2010,\n",
       " 1994,\n",
       " 2005,\n",
       " 2011,\n",
       " 2008,\n",
       " 2006,\n",
       " 2007,\n",
       " 2012,\n",
       " 2013,\n",
       " 1993,\n",
       " 2014,\n",
       " 1992,\n",
       " 2015,\n",
       " 1991,\n",
       " 1990,\n",
       " 1985,\n",
       " 1989,\n",
       " 1986,\n",
       " 1987,\n",
       " 1982,\n",
       " 1988,\n",
       " 1981,\n",
       " 1980,\n",
       " 1984,\n",
       " 1983,\n",
       " 1979,\n",
       " 2016]"
      ]
     },
     "execution_count": 66,
     "metadata": {},
     "output_type": "execute_result"
    }
   ],
   "source": [
    "male_years =[new[i][1] for i in range(len(new))]\n",
    "male_years"
   ]
  },
  {
   "cell_type": "code",
   "execution_count": 85,
   "metadata": {},
   "outputs": [],
   "source": [
    "new2 = x.sort_values(by=['sex','suicides_no'], ascending=False).index[38:]\n",
    "female_years = [new2[i][1] for i in range(len(new2))]"
   ]
  },
  {
   "cell_type": "code",
   "execution_count": 86,
   "metadata": {
    "scrolled": true
   },
   "outputs": [
    {
     "data": {
      "text/plain": [
       "MultiIndex([('female', 1999),\n",
       "            ('female', 2003),\n",
       "            ('female', 1998),\n",
       "            ('female', 2002),\n",
       "            ('female', 2000),\n",
       "            ('female', 2009),\n",
       "            ('female', 1996),\n",
       "            ('female', 2011),\n",
       "            ('female', 1995),\n",
       "            ('female', 2010),\n",
       "            ('female', 1997),\n",
       "            ('female', 2008),\n",
       "            ('female', 2004),\n",
       "            ('female', 2007),\n",
       "            ('female', 2001),\n",
       "            ('female', 2012),\n",
       "            ('female', 1994),\n",
       "            ('female', 1992),\n",
       "            ('female', 1990),\n",
       "            ('female', 2013),\n",
       "            ('female', 2005),\n",
       "            ('female', 1993),\n",
       "            ('female', 2014),\n",
       "            ('female', 2006),\n",
       "            ('female', 1986),\n",
       "            ('female', 1991),\n",
       "            ('female', 1985),\n",
       "            ('female', 1987),\n",
       "            ('female', 2015),\n",
       "            ('female', 1988),\n",
       "            ('female', 1989),\n",
       "            ('female', 1982),\n",
       "            ('female', 1981),\n",
       "            ('female', 1980),\n",
       "            ('female', 1983),\n",
       "            ('female', 1984),\n",
       "            ('female', 1979),\n",
       "            ('female', 2016)],\n",
       "           names=['sex', 'year'])"
      ]
     },
     "execution_count": 86,
     "metadata": {},
     "output_type": "execute_result"
    }
   ],
   "source": [
    "new2"
   ]
  },
  {
   "cell_type": "code",
   "execution_count": 96,
   "metadata": {
    "scrolled": true
   },
   "outputs": [
    {
     "data": {
      "text/plain": [
       "([<matplotlib.axis.XTick at 0x2008887b460>,\n",
       "  <matplotlib.axis.XTick at 0x2008887b430>,\n",
       "  <matplotlib.axis.XTick at 0x2008885ab20>,\n",
       "  <matplotlib.axis.XTick at 0x200888a61c0>,\n",
       "  <matplotlib.axis.XTick at 0x200888a66d0>,\n",
       "  <matplotlib.axis.XTick at 0x200888a6be0>,\n",
       "  <matplotlib.axis.XTick at 0x200888a6850>,\n",
       "  <matplotlib.axis.XTick at 0x200888ac130>,\n",
       "  <matplotlib.axis.XTick at 0x200888ac640>,\n",
       "  <matplotlib.axis.XTick at 0x200888acb50>,\n",
       "  <matplotlib.axis.XTick at 0x200888b20a0>,\n",
       "  <matplotlib.axis.XTick at 0x200888b25b0>,\n",
       "  <matplotlib.axis.XTick at 0x200888b2ac0>,\n",
       "  <matplotlib.axis.XTick at 0x200888b2fd0>,\n",
       "  <matplotlib.axis.XTick at 0x200888ba520>,\n",
       "  <matplotlib.axis.XTick at 0x200888b21f0>,\n",
       "  <matplotlib.axis.XTick at 0x200888ac280>,\n",
       "  <matplotlib.axis.XTick at 0x200888ba0a0>,\n",
       "  <matplotlib.axis.XTick at 0x200888babe0>,\n",
       "  <matplotlib.axis.XTick at 0x200888c0130>,\n",
       "  <matplotlib.axis.XTick at 0x200888c0640>,\n",
       "  <matplotlib.axis.XTick at 0x200888c0b50>,\n",
       "  <matplotlib.axis.XTick at 0x200888c60a0>,\n",
       "  <matplotlib.axis.XTick at 0x200888c65b0>,\n",
       "  <matplotlib.axis.XTick at 0x200888c0700>,\n",
       "  <matplotlib.axis.XTick at 0x200888baca0>,\n",
       "  <matplotlib.axis.XTick at 0x200888a6400>,\n",
       "  <matplotlib.axis.XTick at 0x20088852a60>,\n",
       "  <matplotlib.axis.XTick at 0x200888c6100>,\n",
       "  <matplotlib.axis.XTick at 0x200888c6d90>,\n",
       "  <matplotlib.axis.XTick at 0x200888cf2e0>,\n",
       "  <matplotlib.axis.XTick at 0x200888cf7f0>,\n",
       "  <matplotlib.axis.XTick at 0x200888cfd00>,\n",
       "  <matplotlib.axis.XTick at 0x200888cf520>,\n",
       "  <matplotlib.axis.XTick at 0x20088840cd0>,\n",
       "  <matplotlib.axis.XTick at 0x200888ac1f0>,\n",
       "  <matplotlib.axis.XTick at 0x200888d6400>,\n",
       "  <matplotlib.axis.XTick at 0x200888d6910>],\n",
       " [Text(0, 0, '1999'),\n",
       "  Text(1, 0, '2003'),\n",
       "  Text(2, 0, '1998'),\n",
       "  Text(3, 0, '2002'),\n",
       "  Text(4, 0, '2000'),\n",
       "  Text(5, 0, '2009'),\n",
       "  Text(6, 0, '1996'),\n",
       "  Text(7, 0, '2011'),\n",
       "  Text(8, 0, '1995'),\n",
       "  Text(9, 0, '2010'),\n",
       "  Text(10, 0, '1997'),\n",
       "  Text(11, 0, '2008'),\n",
       "  Text(12, 0, '2004'),\n",
       "  Text(13, 0, '2007'),\n",
       "  Text(14, 0, '2001'),\n",
       "  Text(15, 0, '2012'),\n",
       "  Text(16, 0, '1994'),\n",
       "  Text(17, 0, '1992'),\n",
       "  Text(18, 0, '1990'),\n",
       "  Text(19, 0, '2013'),\n",
       "  Text(20, 0, '2005'),\n",
       "  Text(21, 0, '1993'),\n",
       "  Text(22, 0, '2014'),\n",
       "  Text(23, 0, '2006'),\n",
       "  Text(24, 0, '1986'),\n",
       "  Text(25, 0, '1991'),\n",
       "  Text(26, 0, '1985'),\n",
       "  Text(27, 0, '1987'),\n",
       "  Text(28, 0, '2015'),\n",
       "  Text(29, 0, '1988'),\n",
       "  Text(30, 0, '1989'),\n",
       "  Text(31, 0, '1982'),\n",
       "  Text(32, 0, '1981'),\n",
       "  Text(33, 0, '1980'),\n",
       "  Text(34, 0, '1983'),\n",
       "  Text(35, 0, '1984'),\n",
       "  Text(36, 0, '1979'),\n",
       "  Text(37, 0, '2016')])"
      ]
     },
     "execution_count": 96,
     "metadata": {},
     "output_type": "execute_result"
    },
    {
     "data": {
      "image/png": "[encoded data removed]",
      "text/plain": [
       "<Figure size 1080x720 with 2 Axes>"
      ]
     },
     "metadata": {},
     "output_type": "display_data"
    }
   ],
   "source": [
    "plt.figure(figsize=(15,10))\n",
    "\n",
    "plt.subplot(2,2,1)\n",
    "plt.title('Plot of the male suicides per year')\n",
    "plt.xlabel('Years')\n",
    "plt.ylabel('Suicides')\n",
    "plt.plot(x.sort_values(by=['sex', 'suicides_no'], ascending=False).values[:38], label='men')\n",
    "plt.xticks(range(0,38), male_years, rotation=90)\n",
    "\n",
    "plt.subplot(2,2,2)\n",
    "plt.title('Plot of the female suicides per year')\n",
    "plt.xlabel('Years')\n",
    "# plt.ylabel('Suicides')\n",
    "plt.plot(x.sort_values(by=['sex', 'suicides_no'], ascending=False).values[39:],label='female')\n",
    "plt.xticks(range(0,38), female_years, rotation=90)"
   ]
  },
  {
   "cell_type": "code",
   "execution_count": null,
   "metadata": {},
   "outputs": [],
   "source": []
  },
  {
   "cell_type": "markdown",
   "metadata": {},
   "source": [
    ">Age Group"
   ]
  },
  {
   "cell_type": "code",
   "execution_count": 127,
   "metadata": {},
   "outputs": [
    {
     "data": {
      "text/html": [
       "<div>\n",
       "<style scoped>\n",
       "    .dataframe tbody tr th:only-of-type {\n",
       "        vertical-align: middle;\n",
       "    }\n",
       "\n",
       "    .dataframe tbody tr th {\n",
       "        vertical-align: top;\n",
       "    }\n",
       "\n",
       "    .dataframe thead th {\n",
       "        text-align: right;\n",
       "    }\n",
       "</style>\n",
       "<table border=\"1\" class=\"dataframe\">\n",
       "  <thead>\n",
       "    <tr style=\"text-align: right;\">\n",
       "      <th></th>\n",
       "      <th></th>\n",
       "      <th>suicides_no</th>\n",
       "    </tr>\n",
       "    <tr>\n",
       "      <th>age</th>\n",
       "      <th>year</th>\n",
       "      <th></th>\n",
       "    </tr>\n",
       "  </thead>\n",
       "  <tbody>\n",
       "    <tr>\n",
       "      <th rowspan=\"5\" valign=\"top\">15-24 years</th>\n",
       "      <th>1979</th>\n",
       "      <td>14701.0</td>\n",
       "    </tr>\n",
       "    <tr>\n",
       "      <th>1980</th>\n",
       "      <td>23121.0</td>\n",
       "    </tr>\n",
       "    <tr>\n",
       "      <th>1981</th>\n",
       "      <td>25190.0</td>\n",
       "    </tr>\n",
       "    <tr>\n",
       "      <th>1982</th>\n",
       "      <td>25068.0</td>\n",
       "    </tr>\n",
       "    <tr>\n",
       "      <th>1983</th>\n",
       "      <td>18388.0</td>\n",
       "    </tr>\n",
       "    <tr>\n",
       "      <th>...</th>\n",
       "      <th>...</th>\n",
       "      <td>...</td>\n",
       "    </tr>\n",
       "    <tr>\n",
       "      <th rowspan=\"5\" valign=\"top\">75+ years</th>\n",
       "      <th>2012</th>\n",
       "      <td>24867.0</td>\n",
       "    </tr>\n",
       "    <tr>\n",
       "      <th>2013</th>\n",
       "      <td>24496.0</td>\n",
       "    </tr>\n",
       "    <tr>\n",
       "      <th>2014</th>\n",
       "      <td>25141.0</td>\n",
       "    </tr>\n",
       "    <tr>\n",
       "      <th>2015</th>\n",
       "      <td>23347.0</td>\n",
       "    </tr>\n",
       "    <tr>\n",
       "      <th>2016</th>\n",
       "      <td>1879.0</td>\n",
       "    </tr>\n",
       "  </tbody>\n",
       "</table>\n",
       "<p>228 rows × 1 columns</p>\n",
       "</div>"
      ],
      "text/plain": [
       "                  suicides_no\n",
       "age         year             \n",
       "15-24 years 1979      14701.0\n",
       "            1980      23121.0\n",
       "            1981      25190.0\n",
       "            1982      25068.0\n",
       "            1983      18388.0\n",
       "...                       ...\n",
       "75+ years   2012      24867.0\n",
       "            2013      24496.0\n",
       "            2014      25141.0\n",
       "            2015      23347.0\n",
       "            2016       1879.0\n",
       "\n",
       "[228 rows x 1 columns]"
      ]
     },
     "execution_count": 127,
     "metadata": {},
     "output_type": "execute_result"
    }
   ],
   "source": [
    "# things to consider ,age, suicide, year\n",
    "y = data[['age','year','suicides_no']].groupby(['age','year']).sum()\n",
    "y"
   ]
  },
  {
   "cell_type": "code",
   "execution_count": 128,
   "metadata": {},
   "outputs": [
    {
     "data": {
      "text/plain": [
       "suicides_no    25141.0\n",
       "dtype: float64"
      ]
     },
     "execution_count": 128,
     "metadata": {},
     "output_type": "execute_result"
    }
   ],
   "source": [
    "y.sort_values(by=['age','suicides_no'],ascending=False).loc['75+ years'].max()"
   ]
  },
  {
   "cell_type": "code",
   "execution_count": 132,
   "metadata": {},
   "outputs": [
    {
     "data": {
      "text/plain": [
       "[0, 38, 76, 114, 152, 190, 228]"
      ]
     },
     "execution_count": 132,
     "metadata": {},
     "output_type": "execute_result"
    }
   ],
   "source": [
    "[i*38 for i in range(7)]"
   ]
  },
  {
   "cell_type": "code",
   "execution_count": 141,
   "metadata": {
    "scrolled": true
   },
   "outputs": [],
   "source": [
    "age_75 = y.sort_values(by=['age','suicides_no'],ascending=False)[:38]\n",
    "age_55 = y.sort_values(by=['age','suicides_no'],ascending=False)[38:76]\n",
    "age_5 = y.sort_values(by=['age','suicides_no'],ascending=False)[76:114]\n",
    "age_35 = y.sort_values(by=['age','suicides_no'],ascending=False)[114:152]\n",
    "age_25 = y.sort_values(by=['age','suicides_no'],ascending=False)[152:190]\n",
    "age_15 = y.sort_values(by=['age','suicides_no'],ascending=False)[190:]"
   ]
  },
  {
   "cell_type": "code",
   "execution_count": 142,
   "metadata": {},
   "outputs": [
    {
     "data": {
      "text/html": [
       "<div>\n",
       "<style scoped>\n",
       "    .dataframe tbody tr th:only-of-type {\n",
       "        vertical-align: middle;\n",
       "    }\n",
       "\n",
       "    .dataframe tbody tr th {\n",
       "        vertical-align: top;\n",
       "    }\n",
       "\n",
       "    .dataframe thead th {\n",
       "        text-align: right;\n",
       "    }\n",
       "</style>\n",
       "<table border=\"1\" class=\"dataframe\">\n",
       "  <thead>\n",
       "    <tr style=\"text-align: right;\">\n",
       "      <th></th>\n",
       "      <th></th>\n",
       "      <th>suicides_no</th>\n",
       "    </tr>\n",
       "    <tr>\n",
       "      <th>age</th>\n",
       "      <th>year</th>\n",
       "      <th></th>\n",
       "    </tr>\n",
       "  </thead>\n",
       "  <tbody>\n",
       "    <tr>\n",
       "      <th rowspan=\"5\" valign=\"top\">15-24 years</th>\n",
       "      <th>2000</th>\n",
       "      <td>32591.0</td>\n",
       "    </tr>\n",
       "    <tr>\n",
       "      <th>1999</th>\n",
       "      <td>32380.0</td>\n",
       "    </tr>\n",
       "    <tr>\n",
       "      <th>2002</th>\n",
       "      <td>31948.0</td>\n",
       "    </tr>\n",
       "    <tr>\n",
       "      <th>2001</th>\n",
       "      <td>31729.0</td>\n",
       "    </tr>\n",
       "    <tr>\n",
       "      <th>1998</th>\n",
       "      <td>31657.0</td>\n",
       "    </tr>\n",
       "  </tbody>\n",
       "</table>\n",
       "</div>"
      ],
      "text/plain": [
       "                  suicides_no\n",
       "age         year             \n",
       "15-24 years 2000      32591.0\n",
       "            1999      32380.0\n",
       "            2002      31948.0\n",
       "            2001      31729.0\n",
       "            1998      31657.0"
      ]
     },
     "execution_count": 142,
     "metadata": {},
     "output_type": "execute_result"
    }
   ],
   "source": [
    "age_15.head()"
   ]
  },
  {
   "cell_type": "code",
   "execution_count": 143,
   "metadata": {},
   "outputs": [
    {
     "data": {
      "text/html": [
       "<div>\n",
       "<style scoped>\n",
       "    .dataframe tbody tr th:only-of-type {\n",
       "        vertical-align: middle;\n",
       "    }\n",
       "\n",
       "    .dataframe tbody tr th {\n",
       "        vertical-align: top;\n",
       "    }\n",
       "\n",
       "    .dataframe thead th {\n",
       "        text-align: right;\n",
       "    }\n",
       "</style>\n",
       "<table border=\"1\" class=\"dataframe\">\n",
       "  <thead>\n",
       "    <tr style=\"text-align: right;\">\n",
       "      <th></th>\n",
       "      <th></th>\n",
       "      <th>suicides_no</th>\n",
       "    </tr>\n",
       "    <tr>\n",
       "      <th>age</th>\n",
       "      <th>year</th>\n",
       "      <th></th>\n",
       "    </tr>\n",
       "  </thead>\n",
       "  <tbody>\n",
       "    <tr>\n",
       "      <th rowspan=\"5\" valign=\"top\">25-34 years</th>\n",
       "      <th>1996</th>\n",
       "      <td>43316.0</td>\n",
       "    </tr>\n",
       "    <tr>\n",
       "      <th>1995</th>\n",
       "      <td>42790.0</td>\n",
       "    </tr>\n",
       "    <tr>\n",
       "      <th>1999</th>\n",
       "      <td>42770.0</td>\n",
       "    </tr>\n",
       "    <tr>\n",
       "      <th>2000</th>\n",
       "      <td>42478.0</td>\n",
       "    </tr>\n",
       "    <tr>\n",
       "      <th>2002</th>\n",
       "      <td>42460.0</td>\n",
       "    </tr>\n",
       "  </tbody>\n",
       "</table>\n",
       "</div>"
      ],
      "text/plain": [
       "                  suicides_no\n",
       "age         year             \n",
       "25-34 years 1996      43316.0\n",
       "            1995      42790.0\n",
       "            1999      42770.0\n",
       "            2000      42478.0\n",
       "            2002      42460.0"
      ]
     },
     "execution_count": 143,
     "metadata": {},
     "output_type": "execute_result"
    }
   ],
   "source": [
    "age_25.head()"
   ]
  },
  {
   "cell_type": "code",
   "execution_count": 144,
   "metadata": {
    "scrolled": true
   },
   "outputs": [
    {
     "data": {
      "text/html": [
       "<div>\n",
       "<style scoped>\n",
       "    .dataframe tbody tr th:only-of-type {\n",
       "        vertical-align: middle;\n",
       "    }\n",
       "\n",
       "    .dataframe tbody tr th {\n",
       "        vertical-align: top;\n",
       "    }\n",
       "\n",
       "    .dataframe thead th {\n",
       "        text-align: right;\n",
       "    }\n",
       "</style>\n",
       "<table border=\"1\" class=\"dataframe\">\n",
       "  <thead>\n",
       "    <tr style=\"text-align: right;\">\n",
       "      <th></th>\n",
       "      <th></th>\n",
       "      <th>suicides_no</th>\n",
       "    </tr>\n",
       "    <tr>\n",
       "      <th>age</th>\n",
       "      <th>year</th>\n",
       "      <th></th>\n",
       "    </tr>\n",
       "  </thead>\n",
       "  <tbody>\n",
       "    <tr>\n",
       "      <th rowspan=\"38\" valign=\"top\">5-14 years</th>\n",
       "      <th>2001</th>\n",
       "      <td>2191.0</td>\n",
       "    </tr>\n",
       "    <tr>\n",
       "      <th>2002</th>\n",
       "      <td>2172.0</td>\n",
       "    </tr>\n",
       "    <tr>\n",
       "      <th>1998</th>\n",
       "      <td>2165.0</td>\n",
       "    </tr>\n",
       "    <tr>\n",
       "      <th>2000</th>\n",
       "      <td>2150.0</td>\n",
       "    </tr>\n",
       "    <tr>\n",
       "      <th>1999</th>\n",
       "      <td>2120.0</td>\n",
       "    </tr>\n",
       "    <tr>\n",
       "      <th>2014</th>\n",
       "      <td>2020.0</td>\n",
       "    </tr>\n",
       "    <tr>\n",
       "      <th>2003</th>\n",
       "      <td>1968.0</td>\n",
       "    </tr>\n",
       "    <tr>\n",
       "      <th>2011</th>\n",
       "      <td>1967.0</td>\n",
       "    </tr>\n",
       "    <tr>\n",
       "      <th>1997</th>\n",
       "      <td>1961.0</td>\n",
       "    </tr>\n",
       "    <tr>\n",
       "      <th>1996</th>\n",
       "      <td>1956.0</td>\n",
       "    </tr>\n",
       "    <tr>\n",
       "      <th>2013</th>\n",
       "      <td>1955.0</td>\n",
       "    </tr>\n",
       "    <tr>\n",
       "      <th>1995</th>\n",
       "      <td>1951.0</td>\n",
       "    </tr>\n",
       "    <tr>\n",
       "      <th>2004</th>\n",
       "      <td>1929.0</td>\n",
       "    </tr>\n",
       "    <tr>\n",
       "      <th>2009</th>\n",
       "      <td>1918.0</td>\n",
       "    </tr>\n",
       "    <tr>\n",
       "      <th>2012</th>\n",
       "      <td>1883.0</td>\n",
       "    </tr>\n",
       "    <tr>\n",
       "      <th>1994</th>\n",
       "      <td>1878.0</td>\n",
       "    </tr>\n",
       "    <tr>\n",
       "      <th>1993</th>\n",
       "      <td>1877.0</td>\n",
       "    </tr>\n",
       "    <tr>\n",
       "      <th>2005</th>\n",
       "      <td>1855.0</td>\n",
       "    </tr>\n",
       "    <tr>\n",
       "      <th>2006</th>\n",
       "      <td>1835.0</td>\n",
       "    </tr>\n",
       "    <tr>\n",
       "      <th>2010</th>\n",
       "      <td>1817.0</td>\n",
       "    </tr>\n",
       "    <tr>\n",
       "      <th>1992</th>\n",
       "      <td>1790.0</td>\n",
       "    </tr>\n",
       "    <tr>\n",
       "      <th>2015</th>\n",
       "      <td>1771.0</td>\n",
       "    </tr>\n",
       "    <tr>\n",
       "      <th>2007</th>\n",
       "      <td>1770.0</td>\n",
       "    </tr>\n",
       "    <tr>\n",
       "      <th>2008</th>\n",
       "      <td>1728.0</td>\n",
       "    </tr>\n",
       "    <tr>\n",
       "      <th>1990</th>\n",
       "      <td>1615.0</td>\n",
       "    </tr>\n",
       "    <tr>\n",
       "      <th>1991</th>\n",
       "      <td>1603.0</td>\n",
       "    </tr>\n",
       "    <tr>\n",
       "      <th>1986</th>\n",
       "      <td>1532.0</td>\n",
       "    </tr>\n",
       "    <tr>\n",
       "      <th>1988</th>\n",
       "      <td>1493.0</td>\n",
       "    </tr>\n",
       "    <tr>\n",
       "      <th>1989</th>\n",
       "      <td>1479.0</td>\n",
       "    </tr>\n",
       "    <tr>\n",
       "      <th>1987</th>\n",
       "      <td>1459.0</td>\n",
       "    </tr>\n",
       "    <tr>\n",
       "      <th>1985</th>\n",
       "      <td>1442.0</td>\n",
       "    </tr>\n",
       "    <tr>\n",
       "      <th>1981</th>\n",
       "      <td>1186.0</td>\n",
       "    </tr>\n",
       "    <tr>\n",
       "      <th>1982</th>\n",
       "      <td>1161.0</td>\n",
       "    </tr>\n",
       "    <tr>\n",
       "      <th>1980</th>\n",
       "      <td>999.0</td>\n",
       "    </tr>\n",
       "    <tr>\n",
       "      <th>1983</th>\n",
       "      <td>993.0</td>\n",
       "    </tr>\n",
       "    <tr>\n",
       "      <th>1984</th>\n",
       "      <td>992.0</td>\n",
       "    </tr>\n",
       "    <tr>\n",
       "      <th>1979</th>\n",
       "      <td>635.0</td>\n",
       "    </tr>\n",
       "    <tr>\n",
       "      <th>2016</th>\n",
       "      <td>96.0</td>\n",
       "    </tr>\n",
       "  </tbody>\n",
       "</table>\n",
       "</div>"
      ],
      "text/plain": [
       "                 suicides_no\n",
       "age        year             \n",
       "5-14 years 2001       2191.0\n",
       "           2002       2172.0\n",
       "           1998       2165.0\n",
       "           2000       2150.0\n",
       "           1999       2120.0\n",
       "           2014       2020.0\n",
       "           2003       1968.0\n",
       "           2011       1967.0\n",
       "           1997       1961.0\n",
       "           1996       1956.0\n",
       "           2013       1955.0\n",
       "           1995       1951.0\n",
       "           2004       1929.0\n",
       "           2009       1918.0\n",
       "           2012       1883.0\n",
       "           1994       1878.0\n",
       "           1993       1877.0\n",
       "           2005       1855.0\n",
       "           2006       1835.0\n",
       "           2010       1817.0\n",
       "           1992       1790.0\n",
       "           2015       1771.0\n",
       "           2007       1770.0\n",
       "           2008       1728.0\n",
       "           1990       1615.0\n",
       "           1991       1603.0\n",
       "           1986       1532.0\n",
       "           1988       1493.0\n",
       "           1989       1479.0\n",
       "           1987       1459.0\n",
       "           1985       1442.0\n",
       "           1981       1186.0\n",
       "           1982       1161.0\n",
       "           1980        999.0\n",
       "           1983        993.0\n",
       "           1984        992.0\n",
       "           1979        635.0\n",
       "           2016         96.0"
      ]
     },
     "execution_count": 144,
     "metadata": {},
     "output_type": "execute_result"
    }
   ],
   "source": [
    "age_5"
   ]
  },
  {
   "cell_type": "code",
   "execution_count": 145,
   "metadata": {
    "scrolled": true
   },
   "outputs": [
    {
     "data": {
      "text/html": [
       "<div>\n",
       "<style scoped>\n",
       "    .dataframe tbody tr th:only-of-type {\n",
       "        vertical-align: middle;\n",
       "    }\n",
       "\n",
       "    .dataframe tbody tr th {\n",
       "        vertical-align: top;\n",
       "    }\n",
       "\n",
       "    .dataframe thead th {\n",
       "        text-align: right;\n",
       "    }\n",
       "</style>\n",
       "<table border=\"1\" class=\"dataframe\">\n",
       "  <thead>\n",
       "    <tr style=\"text-align: right;\">\n",
       "      <th></th>\n",
       "      <th></th>\n",
       "      <th>suicides_no</th>\n",
       "    </tr>\n",
       "    <tr>\n",
       "      <th>age</th>\n",
       "      <th>year</th>\n",
       "      <th></th>\n",
       "    </tr>\n",
       "  </thead>\n",
       "  <tbody>\n",
       "    <tr>\n",
       "      <th rowspan=\"38\" valign=\"top\">55-74 years</th>\n",
       "      <th>1999</th>\n",
       "      <td>63362.0</td>\n",
       "    </tr>\n",
       "    <tr>\n",
       "      <th>1998</th>\n",
       "      <td>62281.0</td>\n",
       "    </tr>\n",
       "    <tr>\n",
       "      <th>2003</th>\n",
       "      <td>61667.0</td>\n",
       "    </tr>\n",
       "    <tr>\n",
       "      <th>2000</th>\n",
       "      <td>61663.0</td>\n",
       "    </tr>\n",
       "    <tr>\n",
       "      <th>2002</th>\n",
       "      <td>61006.0</td>\n",
       "    </tr>\n",
       "    <tr>\n",
       "      <th>1996</th>\n",
       "      <td>60655.0</td>\n",
       "    </tr>\n",
       "    <tr>\n",
       "      <th>2009</th>\n",
       "      <td>60608.0</td>\n",
       "    </tr>\n",
       "    <tr>\n",
       "      <th>2010</th>\n",
       "      <td>60454.0</td>\n",
       "    </tr>\n",
       "    <tr>\n",
       "      <th>2011</th>\n",
       "      <td>59871.0</td>\n",
       "    </tr>\n",
       "    <tr>\n",
       "      <th>2001</th>\n",
       "      <td>59774.0</td>\n",
       "    </tr>\n",
       "    <tr>\n",
       "      <th>1995</th>\n",
       "      <td>59715.0</td>\n",
       "    </tr>\n",
       "    <tr>\n",
       "      <th>1997</th>\n",
       "      <td>59326.0</td>\n",
       "    </tr>\n",
       "    <tr>\n",
       "      <th>2012</th>\n",
       "      <td>59217.0</td>\n",
       "    </tr>\n",
       "    <tr>\n",
       "      <th>1994</th>\n",
       "      <td>58814.0</td>\n",
       "    </tr>\n",
       "    <tr>\n",
       "      <th>2013</th>\n",
       "      <td>58686.0</td>\n",
       "    </tr>\n",
       "    <tr>\n",
       "      <th>2014</th>\n",
       "      <td>58458.0</td>\n",
       "    </tr>\n",
       "    <tr>\n",
       "      <th>2008</th>\n",
       "      <td>58437.0</td>\n",
       "    </tr>\n",
       "    <tr>\n",
       "      <th>2004</th>\n",
       "      <td>57878.0</td>\n",
       "    </tr>\n",
       "    <tr>\n",
       "      <th>2007</th>\n",
       "      <td>57533.0</td>\n",
       "    </tr>\n",
       "    <tr>\n",
       "      <th>2006</th>\n",
       "      <td>57342.0</td>\n",
       "    </tr>\n",
       "    <tr>\n",
       "      <th>2005</th>\n",
       "      <td>57307.0</td>\n",
       "    </tr>\n",
       "    <tr>\n",
       "      <th>1993</th>\n",
       "      <td>56316.0</td>\n",
       "    </tr>\n",
       "    <tr>\n",
       "      <th>2015</th>\n",
       "      <td>54250.0</td>\n",
       "    </tr>\n",
       "    <tr>\n",
       "      <th>1992</th>\n",
       "      <td>53575.0</td>\n",
       "    </tr>\n",
       "    <tr>\n",
       "      <th>1991</th>\n",
       "      <td>50097.0</td>\n",
       "    </tr>\n",
       "    <tr>\n",
       "      <th>1990</th>\n",
       "      <td>50056.0</td>\n",
       "    </tr>\n",
       "    <tr>\n",
       "      <th>1987</th>\n",
       "      <td>47757.0</td>\n",
       "    </tr>\n",
       "    <tr>\n",
       "      <th>1985</th>\n",
       "      <td>47643.0</td>\n",
       "    </tr>\n",
       "    <tr>\n",
       "      <th>1986</th>\n",
       "      <td>47262.0</td>\n",
       "    </tr>\n",
       "    <tr>\n",
       "      <th>1989</th>\n",
       "      <td>46213.0</td>\n",
       "    </tr>\n",
       "    <tr>\n",
       "      <th>1988</th>\n",
       "      <td>45545.0</td>\n",
       "    </tr>\n",
       "    <tr>\n",
       "      <th>1982</th>\n",
       "      <td>41862.0</td>\n",
       "    </tr>\n",
       "    <tr>\n",
       "      <th>1981</th>\n",
       "      <td>40002.0</td>\n",
       "    </tr>\n",
       "    <tr>\n",
       "      <th>1980</th>\n",
       "      <td>34566.0</td>\n",
       "    </tr>\n",
       "    <tr>\n",
       "      <th>1984</th>\n",
       "      <td>30812.0</td>\n",
       "    </tr>\n",
       "    <tr>\n",
       "      <th>1983</th>\n",
       "      <td>30275.0</td>\n",
       "    </tr>\n",
       "    <tr>\n",
       "      <th>1979</th>\n",
       "      <td>23270.0</td>\n",
       "    </tr>\n",
       "    <tr>\n",
       "      <th>2016</th>\n",
       "      <td>4913.0</td>\n",
       "    </tr>\n",
       "  </tbody>\n",
       "</table>\n",
       "</div>"
      ],
      "text/plain": [
       "                  suicides_no\n",
       "age         year             \n",
       "55-74 years 1999      63362.0\n",
       "            1998      62281.0\n",
       "            2003      61667.0\n",
       "            2000      61663.0\n",
       "            2002      61006.0\n",
       "            1996      60655.0\n",
       "            2009      60608.0\n",
       "            2010      60454.0\n",
       "            2011      59871.0\n",
       "            2001      59774.0\n",
       "            1995      59715.0\n",
       "            1997      59326.0\n",
       "            2012      59217.0\n",
       "            1994      58814.0\n",
       "            2013      58686.0\n",
       "            2014      58458.0\n",
       "            2008      58437.0\n",
       "            2004      57878.0\n",
       "            2007      57533.0\n",
       "            2006      57342.0\n",
       "            2005      57307.0\n",
       "            1993      56316.0\n",
       "            2015      54250.0\n",
       "            1992      53575.0\n",
       "            1991      50097.0\n",
       "            1990      50056.0\n",
       "            1987      47757.0\n",
       "            1985      47643.0\n",
       "            1986      47262.0\n",
       "            1989      46213.0\n",
       "            1988      45545.0\n",
       "            1982      41862.0\n",
       "            1981      40002.0\n",
       "            1980      34566.0\n",
       "            1984      30812.0\n",
       "            1983      30275.0\n",
       "            1979      23270.0\n",
       "            2016       4913.0"
      ]
     },
     "execution_count": 145,
     "metadata": {},
     "output_type": "execute_result"
    }
   ],
   "source": [
    "age_55"
   ]
  },
  {
   "cell_type": "code",
   "execution_count": 146,
   "metadata": {},
   "outputs": [
    {
     "data": {
      "text/html": [
       "<div>\n",
       "<style scoped>\n",
       "    .dataframe tbody tr th:only-of-type {\n",
       "        vertical-align: middle;\n",
       "    }\n",
       "\n",
       "    .dataframe tbody tr th {\n",
       "        vertical-align: top;\n",
       "    }\n",
       "\n",
       "    .dataframe thead th {\n",
       "        text-align: right;\n",
       "    }\n",
       "</style>\n",
       "<table border=\"1\" class=\"dataframe\">\n",
       "  <thead>\n",
       "    <tr style=\"text-align: right;\">\n",
       "      <th></th>\n",
       "      <th></th>\n",
       "      <th>suicides_no</th>\n",
       "    </tr>\n",
       "    <tr>\n",
       "      <th>age</th>\n",
       "      <th>year</th>\n",
       "      <th></th>\n",
       "    </tr>\n",
       "  </thead>\n",
       "  <tbody>\n",
       "    <tr>\n",
       "      <th rowspan=\"5\" valign=\"top\">75+ years</th>\n",
       "      <th>2014</th>\n",
       "      <td>25141.0</td>\n",
       "    </tr>\n",
       "    <tr>\n",
       "      <th>2012</th>\n",
       "      <td>24867.0</td>\n",
       "    </tr>\n",
       "    <tr>\n",
       "      <th>2013</th>\n",
       "      <td>24496.0</td>\n",
       "    </tr>\n",
       "    <tr>\n",
       "      <th>2011</th>\n",
       "      <td>24489.0</td>\n",
       "    </tr>\n",
       "    <tr>\n",
       "      <th>2010</th>\n",
       "      <td>24111.0</td>\n",
       "    </tr>\n",
       "  </tbody>\n",
       "</table>\n",
       "</div>"
      ],
      "text/plain": [
       "                suicides_no\n",
       "age       year             \n",
       "75+ years 2014      25141.0\n",
       "          2012      24867.0\n",
       "          2013      24496.0\n",
       "          2011      24489.0\n",
       "          2010      24111.0"
      ]
     },
     "execution_count": 146,
     "metadata": {},
     "output_type": "execute_result"
    }
   ],
   "source": [
    "age_75.head()"
   ]
  },
  {
   "cell_type": "code",
   "execution_count": 147,
   "metadata": {},
   "outputs": [
    {
     "data": {
      "text/html": [
       "<div>\n",
       "<style scoped>\n",
       "    .dataframe tbody tr th:only-of-type {\n",
       "        vertical-align: middle;\n",
       "    }\n",
       "\n",
       "    .dataframe tbody tr th {\n",
       "        vertical-align: top;\n",
       "    }\n",
       "\n",
       "    .dataframe thead th {\n",
       "        text-align: right;\n",
       "    }\n",
       "</style>\n",
       "<table border=\"1\" class=\"dataframe\">\n",
       "  <thead>\n",
       "    <tr style=\"text-align: right;\">\n",
       "      <th></th>\n",
       "      <th></th>\n",
       "      <th>suicides_no</th>\n",
       "    </tr>\n",
       "    <tr>\n",
       "      <th>age</th>\n",
       "      <th>year</th>\n",
       "      <th></th>\n",
       "    </tr>\n",
       "  </thead>\n",
       "  <tbody>\n",
       "    <tr>\n",
       "      <th rowspan=\"5\" valign=\"top\">35-54 years</th>\n",
       "      <th>2003</th>\n",
       "      <td>100253.0</td>\n",
       "    </tr>\n",
       "    <tr>\n",
       "      <th>2002</th>\n",
       "      <td>100163.0</td>\n",
       "    </tr>\n",
       "    <tr>\n",
       "      <th>2000</th>\n",
       "      <td>99150.0</td>\n",
       "    </tr>\n",
       "    <tr>\n",
       "      <th>2001</th>\n",
       "      <td>98534.0</td>\n",
       "    </tr>\n",
       "    <tr>\n",
       "      <th>1999</th>\n",
       "      <td>97481.0</td>\n",
       "    </tr>\n",
       "  </tbody>\n",
       "</table>\n",
       "</div>"
      ],
      "text/plain": [
       "                  suicides_no\n",
       "age         year             \n",
       "35-54 years 2003     100253.0\n",
       "            2002     100163.0\n",
       "            2000      99150.0\n",
       "            2001      98534.0\n",
       "            1999      97481.0"
      ]
     },
     "execution_count": 147,
     "metadata": {},
     "output_type": "execute_result"
    }
   ],
   "source": [
    "age_35.head()"
   ]
  },
  {
   "cell_type": "markdown",
   "metadata": {},
   "source": [
    "## It can be observed that the age groups had different years of peak values, and also the peaks all centred around the year 2000 \n",
    "\n",
    "    1. 5-14 years peaked at 2191 deaths in 2001\n",
    "    2. 15-24 years peaked at in\n",
    "    3. 25-34 years peaked at \n",
    "    4. 35-54 years peaked at 100253 deaths in 2003\n",
    "    5. 55-74 years peaked at 63362 deaths in 1999\n",
    "    6. 75+ years peaked at 25141 deaths in 2014"
   ]
  },
  {
   "cell_type": "code",
   "execution_count": null,
   "metadata": {},
   "outputs": [],
   "source": []
  },
  {
   "cell_type": "code",
   "execution_count": null,
   "metadata": {},
   "outputs": [],
   "source": []
  },
  {
   "cell_type": "code",
   "execution_count": null,
   "metadata": {},
   "outputs": [],
   "source": []
  },
  {
   "cell_type": "code",
   "execution_count": null,
   "metadata": {},
   "outputs": [],
   "source": []
  },
  {
   "cell_type": "code",
   "execution_count": null,
   "metadata": {},
   "outputs": [],
   "source": []
  },
  {
   "cell_type": "code",
   "execution_count": null,
   "metadata": {},
   "outputs": [],
   "source": []
  },
  {
   "cell_type": "code",
   "execution_count": null,
   "metadata": {},
   "outputs": [],
   "source": []
  },
  {
   "cell_type": "code",
   "execution_count": null,
   "metadata": {},
   "outputs": [],
   "source": []
  },
  {
   "cell_type": "code",
   "execution_count": null,
   "metadata": {},
   "outputs": [],
   "source": []
  },
  {
   "cell_type": "code",
   "execution_count": null,
   "metadata": {},
   "outputs": [],
   "source": []
  },
  {
   "cell_type": "code",
   "execution_count": null,
   "metadata": {},
   "outputs": [],
   "source": []
  },
  {
   "cell_type": "code",
   "execution_count": null,
   "metadata": {},
   "outputs": [],
   "source": []
  },
  {
   "cell_type": "code",
   "execution_count": null,
   "metadata": {},
   "outputs": [],
   "source": []
  },
  {
   "cell_type": "code",
   "execution_count": null,
   "metadata": {},
   "outputs": [],
   "source": []
  },
  {
   "cell_type": "markdown",
   "metadata": {},
   "source": [
    "### Task 6:  Show the percentage increase in the suicide rate for :\n",
    ">1. Male\n",
    "2. Female and,\n",
    "3. each age group,\n",
    "### across the decades"
   ]
  },
  {
   "cell_type": "markdown",
   "metadata": {},
   "source": [
    "### 1. Approach, group by year and decade"
   ]
  },
  {
   "cell_type": "code",
   "execution_count": 14,
   "metadata": {},
   "outputs": [
    {
     "data": {
      "text/plain": [
       "(1979, 2016)"
      ]
     },
     "execution_count": 14,
     "metadata": {},
     "output_type": "execute_result"
    }
   ],
   "source": [
    "min(data.year.unique()) , max(data.year.unique())"
   ]
  },
  {
   "cell_type": "markdown",
   "metadata": {},
   "source": [
    "> To know how many decades i will be working with"
   ]
  },
  {
   "cell_type": "code",
   "execution_count": 170,
   "metadata": {},
   "outputs": [
    {
     "data": {
      "text/plain": [
       "4.9"
      ]
     },
     "execution_count": 170,
     "metadata": {},
     "output_type": "execute_result"
    }
   ],
   "source": [
    "(2019-1970)/10"
   ]
  },
  {
   "cell_type": "markdown",
   "metadata": {},
   "source": [
    "So five decades in all, here we go."
   ]
  },
  {
   "cell_type": "code",
   "execution_count": 69,
   "metadata": {},
   "outputs": [
    {
     "data": {
      "text/plain": [
       "array([1985, 1986, 1987, 1988, 1989, 1990, 1991, 1992, 1993, 1994, 1995,\n",
       "       1996, 1997, 1998, 1999, 2000, 2001, 2002, 2003, 2004, 2005, 2006,\n",
       "       2007, 2008, 2009, 2010, 2011, 2012, 2013, 2014, 2015, 1983, 1984,\n",
       "       2016, 1979, 1980, 1981, 1982], dtype=int64)"
      ]
     },
     "execution_count": 69,
     "metadata": {},
     "output_type": "execute_result"
    }
   ],
   "source": [
    "# To know how many unique entries\n",
    "\n",
    "data.year.unique()"
   ]
  },
  {
   "cell_type": "markdown",
   "metadata": {},
   "source": [
    "### To make my work easier I created a list of lists, containing each decade as unique entries. So that i can create a dataframe for each decade"
   ]
  },
  {
   "cell_type": "code",
   "execution_count": 153,
   "metadata": {},
   "outputs": [],
   "source": [
    "decades = [[] for i in range(6)]\n",
    "for i in range(1,6):\n",
    "    for x in data.year.unique():\n",
    "           if x >=(1970+(i-1)*10) and x<(1970+(i*10)):\n",
    "                decades[i].append(np.array(data[data.year==x]))"
   ]
  },
  {
   "cell_type": "code",
   "execution_count": 105,
   "metadata": {},
   "outputs": [
    {
     "data": {
      "text/plain": [
       "[]"
      ]
     },
     "execution_count": 105,
     "metadata": {},
     "output_type": "execute_result"
    }
   ],
   "source": [
    "# import random\n",
    "# c = [[] for i in range(5)]\n",
    "# for i in range(1,5):\n",
    "#     c[i].append(random.randint(1,20))\n",
    "# decades[0]"
   ]
  },
  {
   "cell_type": "markdown",
   "metadata": {},
   "source": [
    "To create the dataframe, I initialising with the first year in each decade, but i created a function to add the remaining years"
   ]
  },
  {
   "cell_type": "code",
   "execution_count": 154,
   "metadata": {
    "scrolled": true
   },
   "outputs": [],
   "source": [
    "# Initialising the data decades\n",
    "decade1 = pd.DataFrame(decades[1][0], columns=data.columns)\n",
    "decade2 = pd.DataFrame(decades[2][0], columns=data.columns)\n",
    "decade3 = pd.DataFrame(decades[3][0], columns=data.columns)\n",
    "decade4 = pd.DataFrame(decades[4][0], columns=data.columns)\n",
    "decade5 = pd.DataFrame(decades[5][0], columns=data.columns)"
   ]
  },
  {
   "cell_type": "code",
   "execution_count": 107,
   "metadata": {},
   "outputs": [],
   "source": [
    "# the function\n",
    "def add_more(data,x):\n",
    "    '''\n",
    "    Adds more data to the dataframe from the list of lists\n",
    "    \n",
    "    Args:\n",
    "        data: the current dataframe.\n",
    "        x   : the position of the decade in the list of lists\n",
    "        \n",
    "    Return:\n",
    "        data: updated dataframe containing all the years in the \n",
    "              defined decade.\n",
    "    \n",
    "    '''\n",
    "    for i in range(1,len(decades[x])):\n",
    "        d = pd.DataFrame(decades[x][i], columns=data.columns)\n",
    "        data = data.append(d)\n",
    "    return(data)"
   ]
  },
  {
   "cell_type": "code",
   "execution_count": 155,
   "metadata": {},
   "outputs": [],
   "source": [
    "decade1 = add_more(decade1,1)\n",
    "decade2 = add_more(decade2,2)\n",
    "decade3 = add_more(decade3,3)\n",
    "decade4 = add_more(decade4,4)\n",
    "decade5 = add_more(decade5,5)"
   ]
  },
  {
   "cell_type": "code",
   "execution_count": 156,
   "metadata": {},
   "outputs": [
    {
     "data": {
      "text/plain": [
       "array([1979], dtype=object)"
      ]
     },
     "execution_count": 156,
     "metadata": {},
     "output_type": "execute_result"
    }
   ],
   "source": [
    "# Checking the first decade for its unique entries, just 1979 as it should be\n",
    "decade1.year.unique()"
   ]
  },
  {
   "cell_type": "code",
   "execution_count": 157,
   "metadata": {},
   "outputs": [],
   "source": [
    "decade1.reset_index(inplace=True)"
   ]
  },
  {
   "cell_type": "code",
   "execution_count": 158,
   "metadata": {
    "scrolled": true
   },
   "outputs": [
    {
     "name": "stdout",
     "output_type": "stream",
     "text": [
      "<class 'pandas.core.frame.DataFrame'>\n",
      "RangeIndex: 672 entries, 0 to 671\n",
      "Data columns (total 7 columns):\n",
      " #   Column       Non-Null Count  Dtype \n",
      "---  ------       --------------  ----- \n",
      " 0   index        672 non-null    int64 \n",
      " 1   country      672 non-null    object\n",
      " 2   year         672 non-null    object\n",
      " 3   sex          672 non-null    object\n",
      " 4   age          672 non-null    object\n",
      " 5   suicides_no  444 non-null    object\n",
      " 6   population   660 non-null    object\n",
      "dtypes: int64(1), object(6)\n",
      "memory usage: 36.9+ KB\n"
     ]
    }
   ],
   "source": [
    "decade1.info()"
   ]
  },
  {
   "cell_type": "markdown",
   "metadata": {},
   "source": [
    "### Gender "
   ]
  },
  {
   "cell_type": "code",
   "execution_count": 159,
   "metadata": {
    "scrolled": false
   },
   "outputs": [
    {
     "data": {
      "text/plain": [
       "sex\n",
       "female    29418.0\n",
       "male      63372.0\n",
       "Name: suicides_no, dtype: float64"
      ]
     },
     "execution_count": 159,
     "metadata": {},
     "output_type": "execute_result"
    }
   ],
   "source": [
    "decade1.groupby(['sex']).suicides_no.sum()\n"
   ]
  },
  {
   "cell_type": "code",
   "execution_count": 175,
   "metadata": {},
   "outputs": [
    {
     "data": {
      "text/plain": [
       "<matplotlib.axes._subplots.AxesSubplot at 0x1f6da76c700>"
      ]
     },
     "execution_count": 175,
     "metadata": {},
     "output_type": "execute_result"
    },
    {
     "data": {
      "image/png": "[encoded data removed]",
      "text/plain": [
       "<Figure size 432x288 with 1 Axes>"
      ]
     },
     "metadata": {},
     "output_type": "display_data"
    }
   ],
   "source": [
    "decade1.groupby(['sex']).suicides_no.sum().plot.bar()\n"
   ]
  },
  {
   "cell_type": "code",
   "execution_count": 125,
   "metadata": {},
   "outputs": [],
   "source": [
    "decade1.groupby?\n"
   ]
  },
  {
   "cell_type": "markdown",
   "metadata": {},
   "source": [
    "*Collating the suicides in each decade*"
   ]
  },
  {
   "cell_type": "code",
   "execution_count": 173,
   "metadata": {},
   "outputs": [],
   "source": [
    "Suicide_1 = list(decade1.groupby(['sex']).suicides_no.sum())\n",
    "Suicide_2 = list(decade2.groupby(['sex']).suicides_no.sum())\n",
    "Suicide_3 = list(decade3.groupby(['sex']).suicides_no.sum())\n",
    "Suicide_4 = list(decade4.groupby(['sex']).suicides_no.sum())\n",
    "Suicide_5 = list(decade5.groupby(['sex']).suicides_no.sum())"
   ]
  },
  {
   "cell_type": "code",
   "execution_count": 176,
   "metadata": {},
   "outputs": [
    {
     "data": {
      "text/plain": [
       "[29418.0, 63372.0]"
      ]
     },
     "execution_count": 176,
     "metadata": {},
     "output_type": "execute_result"
    }
   ],
   "source": [
    "# position 0 implies female, while position 1 represents male category\n",
    "Suicide_1"
   ]
  },
  {
   "cell_type": "code",
   "execution_count": 162,
   "metadata": {},
   "outputs": [],
   "source": []
  },
  {
   "cell_type": "code",
   "execution_count": 177,
   "metadata": {},
   "outputs": [],
   "source": [
    "Suicide_ = [Suicide_1,Suicide_2,Suicide_3,Suicide_4,Suicide_5]"
   ]
  },
  {
   "cell_type": "markdown",
   "metadata": {},
   "source": [
    ">But Suicide Rate is defined by WHO is the number of suicides per 100,000 \n",
    "\n",
    ">So we divide by 100,000"
   ]
  },
  {
   "cell_type": "code",
   "execution_count": 181,
   "metadata": {},
   "outputs": [],
   "source": [
    "# separating the data for both genders while also calculating the rate\n",
    "\n",
    "Suicide_male = [Suicide_[i][1]/100000 for i in range(len(Suicide_))]\n",
    "Suicide_female = [Suicide_[i][0]/100000 for i in range(len(Suicide_))]\n"
   ]
  },
  {
   "cell_type": "code",
   "execution_count": 182,
   "metadata": {},
   "outputs": [
    {
     "data": {
      "text/plain": [
       "[0.63372, 12.45888, 18.08655, 19.31481, 10.74787]"
      ]
     },
     "execution_count": 182,
     "metadata": {},
     "output_type": "execute_result"
    }
   ],
   "source": [
    "Suicide_male"
   ]
  },
  {
   "cell_type": "code",
   "execution_count": 183,
   "metadata": {},
   "outputs": [
    {
     "data": {
      "text/plain": [
       "[0.29418, 4.56005, 5.44432, 5.49299, 3.23118]"
      ]
     },
     "execution_count": 183,
     "metadata": {},
     "output_type": "execute_result"
    }
   ],
   "source": [
    "Suicide_female"
   ]
  },
  {
   "cell_type": "code",
   "execution_count": 204,
   "metadata": {
    "scrolled": true
   },
   "outputs": [
    {
     "data": {
      "text/plain": [
       "<matplotlib.collections.LineCollection at 0x1f6dbb83460>"
      ]
     },
     "execution_count": 204,
     "metadata": {},
     "output_type": "execute_result"
    },
    {
     "data": {
      "image/png": "[encoded data removed]",
      "text/plain": [
       "<Figure size 576x576 with 1 Axes>"
      ]
     },
     "metadata": {},
     "output_type": "display_data"
    }
   ],
   "source": [
    "plt.figure(figsize=(8,8))\n",
    "plt.plot(Suicide_male)\n",
    "plt.plot(Suicide_female)\n",
    "plt.xticks(range(0,5),['decade1', 'decade2', 'decade3', 'decade4', 'decade5'])\n",
    "plt.legend(['male', 'female'], loc =(1))\n",
    "plt.ylim(0, max(Suicide_male)+1)\n",
    "plt.hlines(Suicide_male,0, [range(0,5)], color='g', linestyle= 'dotted')\n",
    "plt.hlines(Suicide_female,0, [range(0,5)], color='y', linestyle= 'dotted')"
   ]
  },
  {
   "cell_type": "markdown",
   "metadata": {},
   "source": [
    "## We can see from the graph that the 4th decade has the highest suicide rate.\n",
    "\n",
    "We can also observe a significant jump in the sucide rate across the previous decades.\n",
    "Few reasons why I think the suicide increased.\n",
    ">1. The majority of suicides could be as a result of old veterans of the world war.\n",
    "2. The 3rd and 4th industrial revolutions happened quite rapidly from the 1960's, leading to job loss even at increased population, you can read more __[here](https://ied.eu/project-updates/the-4-industrial-revolutions/)__. So unemployment could be a reason too.\n",
    "3. There were a lot of civil wars in the 1970's and 1980's, so this can also be a factor to consider.\n",
    "4. There were serious pandemics too in those decades"
   ]
  },
  {
   "cell_type": "markdown",
   "metadata": {},
   "source": [
    " "
   ]
  },
  {
   "cell_type": "markdown",
   "metadata": {},
   "source": [
    "### Age group"
   ]
  },
  {
   "cell_type": "code",
   "execution_count": 217,
   "metadata": {},
   "outputs": [],
   "source": [
    "suicide_1 = list(decade1.groupby('age').suicides_no.sum())\n",
    "suicide_2 = list(decade2.groupby('age').suicides_no.sum())\n",
    "suicide_3 = list(decade3.groupby('age').suicides_no.sum())\n",
    "suicide_4 = list(decade4.groupby('age').suicides_no.sum())\n",
    "suicide_5 = list(decade5.groupby('age').suicides_no.sum())"
   ]
  },
  {
   "cell_type": "code",
   "execution_count": 221,
   "metadata": {},
   "outputs": [],
   "source": [
    "suicide_ = [suicide_1,suicide_2,suicide_3,suicide_4,suicide_5]"
   ]
  },
  {
   "cell_type": "markdown",
   "metadata": {},
   "source": [
    "### creating a list for each of the age groups containing values across the decades"
   ]
  },
  {
   "cell_type": "code",
   "execution_count": 222,
   "metadata": {},
   "outputs": [],
   "source": [
    "age_5_14 = [suicide_[i][3]/100000 for i in range(len(suicide_))]\n",
    "age_15_24 = [suicide_[i][0]/100000 for i in range(len(suicide_))]\n",
    "age_25_34 = [suicide_[i][1]/100000 for i in range(len(suicide_))]\n",
    "age_35_54 = [suicide_[i][2]/100000 for i in range(len(suicide_))]\n",
    "age_55_74 = [suicide_[i][4]/100000 for i in range(len(suicide_))]\n",
    "age_75_ = [suicide_[i][5]/100000 for i in range(len(suicide_))]"
   ]
  },
  {
   "cell_type": "code",
   "execution_count": 224,
   "metadata": {},
   "outputs": [],
   "source": [
    "ages = [age_5_14, age_15_24,age_25_34, age_35_54, age_55_74, age_75_]"
   ]
  },
  {
   "cell_type": "code",
   "execution_count": 228,
   "metadata": {
    "scrolled": true
   },
   "outputs": [
    {
     "data": {
      "text/plain": [
       "(0.0, 10.37256)"
      ]
     },
     "execution_count": 228,
     "metadata": {},
     "output_type": "execute_result"
    },
    {
     "data": {
      "image/png": "[encoded data removed]",
      "text/plain": [
       "<Figure size 648x648 with 1 Axes>"
      ]
     },
     "metadata": {},
     "output_type": "display_data"
    }
   ],
   "source": [
    "plt.figure(figsize=(9,9))\n",
    "plt.plot(ages)\n",
    "plt.xticks(range(0,5),['decade1', 'decade2', 'decade3', 'decade4', 'decade5'])\n",
    "plt.legend(['5-14 years','15-24 years','25-34 years', '35-54 years', '55-74', '75+'] , loc =(0))\n",
    "plt.ylim(0, max(age_35_54)+1)"
   ]
  },
  {
   "cell_type": "code",
   "execution_count": 242,
   "metadata": {},
   "outputs": [],
   "source": []
  },
  {
   "cell_type": "code",
   "execution_count": null,
   "metadata": {},
   "outputs": [],
   "source": []
  },
  {
   "cell_type": "code",
   "execution_count": null,
   "metadata": {},
   "outputs": [],
   "source": []
  },
  {
   "cell_type": "code",
   "execution_count": null,
   "metadata": {},
   "outputs": [],
   "source": []
  },
  {
   "cell_type": "code",
   "execution_count": null,
   "metadata": {},
   "outputs": [],
   "source": []
  },
  {
   "cell_type": "code",
   "execution_count": null,
   "metadata": {},
   "outputs": [],
   "source": []
  },
  {
   "cell_type": "code",
   "execution_count": null,
   "metadata": {},
   "outputs": [],
   "source": []
  }
 ],
 "metadata": {
  "kernelspec": {
   "display_name": "Python 3",
   "language": "python",
   "name": "python3"
  },
  "language_info": {
   "codemirror_mode": {
    "name": "ipython",
    "version": 3
   },
   "file_extension": ".py",
   "mimetype": "text/x-python",
   "name": "python",
   "nbconvert_exporter": "python",
   "pygments_lexer": "ipython3",
   "version": "3.8.3"
  }
 },
 "nbformat": 4,
 "nbformat_minor": 4
}
